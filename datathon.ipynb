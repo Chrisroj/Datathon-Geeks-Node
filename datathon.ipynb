{
 "cells": [
  {
   "cell_type": "code",
   "execution_count": 1,
   "metadata": {},
   "outputs": [],
   "source": [
    "# Data Processing\n",
    "import os\n",
    "import numpy  as np\n",
    "import pandas as pd\n",
    "\n",
    "# Set Parameters for Pandas\n",
    "pd.set_option(\"display.max_columns\", None)\n",
    "pd.options.plotting.backend = \"plotly\"\n"
   ]
  },
  {
   "cell_type": "markdown",
   "metadata": {},
   "source": [
    "# Functions"
   ]
  },
  {
   "cell_type": "code",
   "execution_count": 2,
   "metadata": {},
   "outputs": [],
   "source": [
    "def read_csv_atus(df_path: pd.DataFrame):\n",
    "    \"\"\"This function load a atus csv file correctly. \n",
    "\n",
    "    Args:\n",
    "        df_path (pd.DataFrame): File path of the atus csv.\n",
    "\n",
    "    Returns:\n",
    "        _type_: DataFrame of atus file.\n",
    "    \"\"\"\n",
    "    df = pd.read_csv(df_path)\n",
    "    aux_columns = df.columns\n",
    "    df = df.iloc[: , :-1].reset_index()\n",
    "    df.columns = aux_columns\n",
    "\n",
    "    return df"
   ]
  },
  {
   "cell_type": "markdown",
   "metadata": {},
   "source": [
    "# Load Data"
   ]
  },
  {
   "cell_type": "code",
   "execution_count": 3,
   "metadata": {},
   "outputs": [],
   "source": [
    "# Data Path's\n",
    "path_data_set = \"atus_anual_1997_2020/conjunto_de_datos\"\n",
    "path_catalogos = \"atus_anual_1997_2020/catalogos\""
   ]
  },
  {
   "cell_type": "code",
   "execution_count": 4,
   "metadata": {},
   "outputs": [],
   "source": [
    "# Load ID's\n",
    "tc_dia = read_csv_atus(os.path.join(path_catalogos, \"tc_dia.csv\"))\n",
    "tc_edad = read_csv_atus(os.path.join(path_catalogos, \"tc_edad.csv\"))\n",
    "tc_entidad = read_csv_atus(os.path.join(path_catalogos, \"tc_entidad.csv\"))\n",
    "tc_hora = read_csv_atus(os.path.join(path_catalogos, \"tc_hora.csv\"))\n",
    "tc_minuto = read_csv_atus(os.path.join(path_catalogos, \"tc_minuto.csv\"))\n",
    "tc_municipio = read_csv_atus(os.path.join(path_catalogos, \"tc_municipio.csv\"))\n",
    "tc_periodo_mes = read_csv_atus(os.path.join(path_catalogos, \"tc_periodo_mes.csv\"))"
   ]
  },
  {
   "cell_type": "code",
   "execution_count": 5,
   "metadata": {},
   "outputs": [],
   "source": [
    "# Test with a year\n",
    "#file_test = os.listdir(path_data_set)[10]\n",
    "#file_test"
   ]
  },
  {
   "cell_type": "code",
   "execution_count": 13,
   "metadata": {},
   "outputs": [],
   "source": [
    "# Read csv\n",
    "atus = read_csv_atus(os.path.join(path_data_set, \"atus_anual_2020.csv\"))"
   ]
  },
  {
   "cell_type": "markdown",
   "metadata": {},
   "source": [
    "# Data Transformation"
   ]
  },
  {
   "cell_type": "code",
   "execution_count": null,
   "metadata": {},
   "outputs": [],
   "source": [
    "# Dict of Catalogs\n",
    "catalogos_name_dict = {\"ID_DIA\": tc_dia,\n",
    "                       \"ID_EDAD\": tc_edad,\n",
    "                       \"ID_ENTIDAD\": tc_entidad,\n",
    "                       \"ID_HORA\": tc_hora,\n",
    "                       \"ID_MINUTO\": tc_minuto,\n",
    "                       \"MES\": tc_periodo_mes\n",
    "                       }"
   ]
  },
  {
   "cell_type": "code",
   "execution_count": 27,
   "metadata": {},
   "outputs": [
    {
     "data": {
      "text/html": [
       "<div>\n",
       "<style scoped>\n",
       "    .dataframe tbody tr th:only-of-type {\n",
       "        vertical-align: middle;\n",
       "    }\n",
       "\n",
       "    .dataframe tbody tr th {\n",
       "        vertical-align: top;\n",
       "    }\n",
       "\n",
       "    .dataframe thead th {\n",
       "        text-align: right;\n",
       "    }\n",
       "</style>\n",
       "<table border=\"1\" class=\"dataframe\">\n",
       "  <thead>\n",
       "    <tr style=\"text-align: right;\">\n",
       "      <th></th>\n",
       "      <th>COBERTURA</th>\n",
       "      <th>ANIO</th>\n",
       "      <th>DIASEMANA</th>\n",
       "      <th>URBANA</th>\n",
       "      <th>SUBURBANA</th>\n",
       "      <th>TIPACCID</th>\n",
       "      <th>AUTOMOVIL</th>\n",
       "      <th>CAMPASAJ</th>\n",
       "      <th>MICROBUS</th>\n",
       "      <th>PASCAMION</th>\n",
       "      <th>OMNIBUS</th>\n",
       "      <th>TRANVIA</th>\n",
       "      <th>CAMIONETA</th>\n",
       "      <th>CAMION</th>\n",
       "      <th>TRACTOR</th>\n",
       "      <th>FERROCARRI</th>\n",
       "      <th>MOTOCICLET</th>\n",
       "      <th>BICICLETA</th>\n",
       "      <th>OTROVEHIC</th>\n",
       "      <th>CAUSAACCI</th>\n",
       "      <th>CAPAROD</th>\n",
       "      <th>SEXO</th>\n",
       "      <th>ALIENTO</th>\n",
       "      <th>CINTURON</th>\n",
       "      <th>CONDMUERTO</th>\n",
       "      <th>CONDHERIDO</th>\n",
       "      <th>PASAMUERTO</th>\n",
       "      <th>PASAHERIDO</th>\n",
       "      <th>PEATMUERTO</th>\n",
       "      <th>PEATHERIDO</th>\n",
       "      <th>CICLMUERTO</th>\n",
       "      <th>CICLHERIDO</th>\n",
       "      <th>OTROMUERTO</th>\n",
       "      <th>OTROHERIDO</th>\n",
       "      <th>NEMUERTO</th>\n",
       "      <th>NEHERIDO</th>\n",
       "      <th>CLASACC</th>\n",
       "      <th>ESTATUS</th>\n",
       "      <th>NOM_MUNICIPIO</th>\n",
       "      <th>DESC_DIA</th>\n",
       "      <th>DESC_EDAD</th>\n",
       "      <th>NOM_ENTIDAD</th>\n",
       "      <th>DESC_HORA</th>\n",
       "      <th>DESC_MINUTO</th>\n",
       "      <th>DESCRIPCION_MES</th>\n",
       "    </tr>\n",
       "  </thead>\n",
       "  <tbody>\n",
       "    <tr>\n",
       "      <th>0</th>\n",
       "      <td>Municipal</td>\n",
       "      <td>2020</td>\n",
       "      <td>Miercoles</td>\n",
       "      <td>Accidente en intersección</td>\n",
       "      <td>Sin accidente en esta zona</td>\n",
       "      <td>Colisión con vehículo automotor</td>\n",
       "      <td>1</td>\n",
       "      <td>1</td>\n",
       "      <td>0</td>\n",
       "      <td>0</td>\n",
       "      <td>0</td>\n",
       "      <td>0</td>\n",
       "      <td>0</td>\n",
       "      <td>0</td>\n",
       "      <td>0</td>\n",
       "      <td>0</td>\n",
       "      <td>0</td>\n",
       "      <td>0</td>\n",
       "      <td>0</td>\n",
       "      <td>Conductor</td>\n",
       "      <td>Pavimentada</td>\n",
       "      <td>Hombre</td>\n",
       "      <td>No</td>\n",
       "      <td>Se ignora</td>\n",
       "      <td>0</td>\n",
       "      <td>0</td>\n",
       "      <td>0</td>\n",
       "      <td>0</td>\n",
       "      <td>0</td>\n",
       "      <td>0</td>\n",
       "      <td>0</td>\n",
       "      <td>0</td>\n",
       "      <td>0</td>\n",
       "      <td>0</td>\n",
       "      <td>0</td>\n",
       "      <td>0</td>\n",
       "      <td>Sólo daños</td>\n",
       "      <td>Cifras Definitivas</td>\n",
       "      <td>Aguascalientes</td>\n",
       "      <td>1</td>\n",
       "      <td>39</td>\n",
       "      <td>Aguascalientes</td>\n",
       "      <td>0</td>\n",
       "      <td>0</td>\n",
       "      <td>Enero</td>\n",
       "    </tr>\n",
       "    <tr>\n",
       "      <th>1</th>\n",
       "      <td>Municipal</td>\n",
       "      <td>2020</td>\n",
       "      <td>Miercoles</td>\n",
       "      <td>Accidente en intersección</td>\n",
       "      <td>Sin accidente en esta zona</td>\n",
       "      <td>Colisión con objeto fijo</td>\n",
       "      <td>1</td>\n",
       "      <td>0</td>\n",
       "      <td>0</td>\n",
       "      <td>0</td>\n",
       "      <td>0</td>\n",
       "      <td>0</td>\n",
       "      <td>0</td>\n",
       "      <td>0</td>\n",
       "      <td>0</td>\n",
       "      <td>0</td>\n",
       "      <td>0</td>\n",
       "      <td>0</td>\n",
       "      <td>0</td>\n",
       "      <td>Conductor</td>\n",
       "      <td>Pavimentada</td>\n",
       "      <td>Hombre</td>\n",
       "      <td>Sí</td>\n",
       "      <td>Se ignora</td>\n",
       "      <td>0</td>\n",
       "      <td>0</td>\n",
       "      <td>0</td>\n",
       "      <td>0</td>\n",
       "      <td>0</td>\n",
       "      <td>0</td>\n",
       "      <td>0</td>\n",
       "      <td>0</td>\n",
       "      <td>0</td>\n",
       "      <td>0</td>\n",
       "      <td>0</td>\n",
       "      <td>0</td>\n",
       "      <td>Sólo daños</td>\n",
       "      <td>Cifras Definitivas</td>\n",
       "      <td>Aguascalientes</td>\n",
       "      <td>1</td>\n",
       "      <td>30</td>\n",
       "      <td>Aguascalientes</td>\n",
       "      <td>0</td>\n",
       "      <td>0</td>\n",
       "      <td>Enero</td>\n",
       "    </tr>\n",
       "    <tr>\n",
       "      <th>2</th>\n",
       "      <td>Municipal</td>\n",
       "      <td>2020</td>\n",
       "      <td>Miercoles</td>\n",
       "      <td>Accidente en intersección</td>\n",
       "      <td>Sin accidente en esta zona</td>\n",
       "      <td>Colisión con motocicleta</td>\n",
       "      <td>1</td>\n",
       "      <td>0</td>\n",
       "      <td>0</td>\n",
       "      <td>0</td>\n",
       "      <td>0</td>\n",
       "      <td>0</td>\n",
       "      <td>0</td>\n",
       "      <td>0</td>\n",
       "      <td>0</td>\n",
       "      <td>0</td>\n",
       "      <td>1</td>\n",
       "      <td>0</td>\n",
       "      <td>0</td>\n",
       "      <td>Conductor</td>\n",
       "      <td>Pavimentada</td>\n",
       "      <td>Hombre</td>\n",
       "      <td>No</td>\n",
       "      <td>Se ignora</td>\n",
       "      <td>0</td>\n",
       "      <td>0</td>\n",
       "      <td>0</td>\n",
       "      <td>0</td>\n",
       "      <td>0</td>\n",
       "      <td>0</td>\n",
       "      <td>0</td>\n",
       "      <td>0</td>\n",
       "      <td>0</td>\n",
       "      <td>0</td>\n",
       "      <td>0</td>\n",
       "      <td>0</td>\n",
       "      <td>Sólo daños</td>\n",
       "      <td>Cifras Definitivas</td>\n",
       "      <td>Aguascalientes</td>\n",
       "      <td>1</td>\n",
       "      <td>18</td>\n",
       "      <td>Aguascalientes</td>\n",
       "      <td>0</td>\n",
       "      <td>10</td>\n",
       "      <td>Enero</td>\n",
       "    </tr>\n",
       "    <tr>\n",
       "      <th>3</th>\n",
       "      <td>Municipal</td>\n",
       "      <td>2020</td>\n",
       "      <td>Miercoles</td>\n",
       "      <td>Accidente en intersección</td>\n",
       "      <td>Sin accidente en esta zona</td>\n",
       "      <td>Colisión con vehículo automotor</td>\n",
       "      <td>2</td>\n",
       "      <td>0</td>\n",
       "      <td>0</td>\n",
       "      <td>0</td>\n",
       "      <td>0</td>\n",
       "      <td>0</td>\n",
       "      <td>0</td>\n",
       "      <td>0</td>\n",
       "      <td>0</td>\n",
       "      <td>0</td>\n",
       "      <td>0</td>\n",
       "      <td>0</td>\n",
       "      <td>0</td>\n",
       "      <td>Conductor</td>\n",
       "      <td>Pavimentada</td>\n",
       "      <td>Hombre</td>\n",
       "      <td>No</td>\n",
       "      <td>Se ignora</td>\n",
       "      <td>0</td>\n",
       "      <td>0</td>\n",
       "      <td>0</td>\n",
       "      <td>0</td>\n",
       "      <td>0</td>\n",
       "      <td>0</td>\n",
       "      <td>0</td>\n",
       "      <td>0</td>\n",
       "      <td>0</td>\n",
       "      <td>0</td>\n",
       "      <td>0</td>\n",
       "      <td>0</td>\n",
       "      <td>Sólo daños</td>\n",
       "      <td>Cifras Definitivas</td>\n",
       "      <td>Aguascalientes</td>\n",
       "      <td>1</td>\n",
       "      <td>34</td>\n",
       "      <td>Aguascalientes</td>\n",
       "      <td>2</td>\n",
       "      <td>0</td>\n",
       "      <td>Enero</td>\n",
       "    </tr>\n",
       "    <tr>\n",
       "      <th>4</th>\n",
       "      <td>Municipal</td>\n",
       "      <td>2020</td>\n",
       "      <td>Miercoles</td>\n",
       "      <td>Accidente en intersección</td>\n",
       "      <td>Sin accidente en esta zona</td>\n",
       "      <td>Colisión con vehículo automotor</td>\n",
       "      <td>2</td>\n",
       "      <td>0</td>\n",
       "      <td>0</td>\n",
       "      <td>0</td>\n",
       "      <td>0</td>\n",
       "      <td>0</td>\n",
       "      <td>0</td>\n",
       "      <td>0</td>\n",
       "      <td>0</td>\n",
       "      <td>0</td>\n",
       "      <td>0</td>\n",
       "      <td>0</td>\n",
       "      <td>0</td>\n",
       "      <td>Conductor</td>\n",
       "      <td>Pavimentada</td>\n",
       "      <td>Se fugó</td>\n",
       "      <td>Se ignora</td>\n",
       "      <td>Se ignora</td>\n",
       "      <td>0</td>\n",
       "      <td>0</td>\n",
       "      <td>0</td>\n",
       "      <td>0</td>\n",
       "      <td>0</td>\n",
       "      <td>0</td>\n",
       "      <td>0</td>\n",
       "      <td>0</td>\n",
       "      <td>0</td>\n",
       "      <td>0</td>\n",
       "      <td>0</td>\n",
       "      <td>0</td>\n",
       "      <td>Sólo daños</td>\n",
       "      <td>Cifras Definitivas</td>\n",
       "      <td>Aguascalientes</td>\n",
       "      <td>1</td>\n",
       "      <td>Se ignora por que se fugó</td>\n",
       "      <td>Aguascalientes</td>\n",
       "      <td>2</td>\n",
       "      <td>10</td>\n",
       "      <td>Enero</td>\n",
       "    </tr>\n",
       "    <tr>\n",
       "      <th>...</th>\n",
       "      <td>...</td>\n",
       "      <td>...</td>\n",
       "      <td>...</td>\n",
       "      <td>...</td>\n",
       "      <td>...</td>\n",
       "      <td>...</td>\n",
       "      <td>...</td>\n",
       "      <td>...</td>\n",
       "      <td>...</td>\n",
       "      <td>...</td>\n",
       "      <td>...</td>\n",
       "      <td>...</td>\n",
       "      <td>...</td>\n",
       "      <td>...</td>\n",
       "      <td>...</td>\n",
       "      <td>...</td>\n",
       "      <td>...</td>\n",
       "      <td>...</td>\n",
       "      <td>...</td>\n",
       "      <td>...</td>\n",
       "      <td>...</td>\n",
       "      <td>...</td>\n",
       "      <td>...</td>\n",
       "      <td>...</td>\n",
       "      <td>...</td>\n",
       "      <td>...</td>\n",
       "      <td>...</td>\n",
       "      <td>...</td>\n",
       "      <td>...</td>\n",
       "      <td>...</td>\n",
       "      <td>...</td>\n",
       "      <td>...</td>\n",
       "      <td>...</td>\n",
       "      <td>...</td>\n",
       "      <td>...</td>\n",
       "      <td>...</td>\n",
       "      <td>...</td>\n",
       "      <td>...</td>\n",
       "      <td>...</td>\n",
       "      <td>...</td>\n",
       "      <td>...</td>\n",
       "      <td>...</td>\n",
       "      <td>...</td>\n",
       "      <td>...</td>\n",
       "      <td>...</td>\n",
       "    </tr>\n",
       "    <tr>\n",
       "      <th>318041</th>\n",
       "      <td>Municipal</td>\n",
       "      <td>2020</td>\n",
       "      <td>Sabado</td>\n",
       "      <td>Accidente en no intersección</td>\n",
       "      <td>Sin accidente en esta zona</td>\n",
       "      <td>Colisión con objeto fijo</td>\n",
       "      <td>1</td>\n",
       "      <td>0</td>\n",
       "      <td>0</td>\n",
       "      <td>0</td>\n",
       "      <td>0</td>\n",
       "      <td>0</td>\n",
       "      <td>0</td>\n",
       "      <td>0</td>\n",
       "      <td>0</td>\n",
       "      <td>0</td>\n",
       "      <td>0</td>\n",
       "      <td>0</td>\n",
       "      <td>0</td>\n",
       "      <td>Conductor</td>\n",
       "      <td>Pavimentada</td>\n",
       "      <td>Se fugó</td>\n",
       "      <td>Se ignora</td>\n",
       "      <td>Se ignora</td>\n",
       "      <td>0</td>\n",
       "      <td>0</td>\n",
       "      <td>0</td>\n",
       "      <td>0</td>\n",
       "      <td>0</td>\n",
       "      <td>0</td>\n",
       "      <td>0</td>\n",
       "      <td>0</td>\n",
       "      <td>0</td>\n",
       "      <td>0</td>\n",
       "      <td>0</td>\n",
       "      <td>0</td>\n",
       "      <td>Sólo daños</td>\n",
       "      <td>Cifras Definitivas</td>\n",
       "      <td>Zacatecas</td>\n",
       "      <td>26</td>\n",
       "      <td>Se ignora por que se fugó</td>\n",
       "      <td>Zacatecas</td>\n",
       "      <td>5</td>\n",
       "      <td>15</td>\n",
       "      <td>Diciembre</td>\n",
       "    </tr>\n",
       "    <tr>\n",
       "      <th>318042</th>\n",
       "      <td>Municipal</td>\n",
       "      <td>2020</td>\n",
       "      <td>Sabado</td>\n",
       "      <td>Accidente en no intersección</td>\n",
       "      <td>Sin accidente en esta zona</td>\n",
       "      <td>Colisión con vehículo automotor</td>\n",
       "      <td>1</td>\n",
       "      <td>1</td>\n",
       "      <td>0</td>\n",
       "      <td>0</td>\n",
       "      <td>0</td>\n",
       "      <td>0</td>\n",
       "      <td>0</td>\n",
       "      <td>0</td>\n",
       "      <td>0</td>\n",
       "      <td>0</td>\n",
       "      <td>0</td>\n",
       "      <td>0</td>\n",
       "      <td>0</td>\n",
       "      <td>Conductor</td>\n",
       "      <td>Pavimentada</td>\n",
       "      <td>Mujer</td>\n",
       "      <td>No</td>\n",
       "      <td>Se ignora</td>\n",
       "      <td>0</td>\n",
       "      <td>0</td>\n",
       "      <td>0</td>\n",
       "      <td>0</td>\n",
       "      <td>0</td>\n",
       "      <td>0</td>\n",
       "      <td>0</td>\n",
       "      <td>0</td>\n",
       "      <td>0</td>\n",
       "      <td>0</td>\n",
       "      <td>0</td>\n",
       "      <td>0</td>\n",
       "      <td>Sólo daños</td>\n",
       "      <td>Cifras Definitivas</td>\n",
       "      <td>Zacatecas</td>\n",
       "      <td>26</td>\n",
       "      <td>54</td>\n",
       "      <td>Zacatecas</td>\n",
       "      <td>10</td>\n",
       "      <td>40</td>\n",
       "      <td>Diciembre</td>\n",
       "    </tr>\n",
       "    <tr>\n",
       "      <th>318043</th>\n",
       "      <td>Municipal</td>\n",
       "      <td>2020</td>\n",
       "      <td>lunes</td>\n",
       "      <td>Accidente en no intersección</td>\n",
       "      <td>Sin accidente en esta zona</td>\n",
       "      <td>Volcadura</td>\n",
       "      <td>1</td>\n",
       "      <td>0</td>\n",
       "      <td>0</td>\n",
       "      <td>0</td>\n",
       "      <td>0</td>\n",
       "      <td>0</td>\n",
       "      <td>0</td>\n",
       "      <td>0</td>\n",
       "      <td>0</td>\n",
       "      <td>0</td>\n",
       "      <td>0</td>\n",
       "      <td>0</td>\n",
       "      <td>0</td>\n",
       "      <td>Conductor</td>\n",
       "      <td>Pavimentada</td>\n",
       "      <td>Hombre</td>\n",
       "      <td>No</td>\n",
       "      <td>Se ignora</td>\n",
       "      <td>0</td>\n",
       "      <td>0</td>\n",
       "      <td>0</td>\n",
       "      <td>0</td>\n",
       "      <td>0</td>\n",
       "      <td>0</td>\n",
       "      <td>0</td>\n",
       "      <td>0</td>\n",
       "      <td>0</td>\n",
       "      <td>0</td>\n",
       "      <td>0</td>\n",
       "      <td>0</td>\n",
       "      <td>Sólo daños</td>\n",
       "      <td>Cifras Definitivas</td>\n",
       "      <td>Zacatecas</td>\n",
       "      <td>28</td>\n",
       "      <td>21</td>\n",
       "      <td>Zacatecas</td>\n",
       "      <td>17</td>\n",
       "      <td>25</td>\n",
       "      <td>Diciembre</td>\n",
       "    </tr>\n",
       "    <tr>\n",
       "      <th>318044</th>\n",
       "      <td>Municipal</td>\n",
       "      <td>2020</td>\n",
       "      <td>lunes</td>\n",
       "      <td>Accidente en no intersección</td>\n",
       "      <td>Sin accidente en esta zona</td>\n",
       "      <td>Colisión con vehículo automotor</td>\n",
       "      <td>1</td>\n",
       "      <td>0</td>\n",
       "      <td>0</td>\n",
       "      <td>0</td>\n",
       "      <td>0</td>\n",
       "      <td>0</td>\n",
       "      <td>1</td>\n",
       "      <td>0</td>\n",
       "      <td>0</td>\n",
       "      <td>0</td>\n",
       "      <td>0</td>\n",
       "      <td>0</td>\n",
       "      <td>0</td>\n",
       "      <td>Conductor</td>\n",
       "      <td>Pavimentada</td>\n",
       "      <td>Hombre</td>\n",
       "      <td>No</td>\n",
       "      <td>Se ignora</td>\n",
       "      <td>0</td>\n",
       "      <td>0</td>\n",
       "      <td>0</td>\n",
       "      <td>0</td>\n",
       "      <td>0</td>\n",
       "      <td>0</td>\n",
       "      <td>0</td>\n",
       "      <td>0</td>\n",
       "      <td>0</td>\n",
       "      <td>0</td>\n",
       "      <td>0</td>\n",
       "      <td>0</td>\n",
       "      <td>Sólo daños</td>\n",
       "      <td>Cifras Definitivas</td>\n",
       "      <td>Zacatecas</td>\n",
       "      <td>28</td>\n",
       "      <td>49</td>\n",
       "      <td>Zacatecas</td>\n",
       "      <td>20</td>\n",
       "      <td>48</td>\n",
       "      <td>Diciembre</td>\n",
       "    </tr>\n",
       "    <tr>\n",
       "      <th>318045</th>\n",
       "      <td>Municipal</td>\n",
       "      <td>2020</td>\n",
       "      <td>Jueves</td>\n",
       "      <td>Accidente en no intersección</td>\n",
       "      <td>Sin accidente en esta zona</td>\n",
       "      <td>Volcadura</td>\n",
       "      <td>1</td>\n",
       "      <td>0</td>\n",
       "      <td>0</td>\n",
       "      <td>0</td>\n",
       "      <td>0</td>\n",
       "      <td>0</td>\n",
       "      <td>0</td>\n",
       "      <td>0</td>\n",
       "      <td>0</td>\n",
       "      <td>0</td>\n",
       "      <td>0</td>\n",
       "      <td>0</td>\n",
       "      <td>0</td>\n",
       "      <td>Conductor</td>\n",
       "      <td>Pavimentada</td>\n",
       "      <td>Mujer</td>\n",
       "      <td>No</td>\n",
       "      <td>Se ignora</td>\n",
       "      <td>0</td>\n",
       "      <td>0</td>\n",
       "      <td>0</td>\n",
       "      <td>0</td>\n",
       "      <td>0</td>\n",
       "      <td>0</td>\n",
       "      <td>0</td>\n",
       "      <td>0</td>\n",
       "      <td>0</td>\n",
       "      <td>0</td>\n",
       "      <td>0</td>\n",
       "      <td>0</td>\n",
       "      <td>Sólo daños</td>\n",
       "      <td>Cifras Definitivas</td>\n",
       "      <td>Zacatecas</td>\n",
       "      <td>31</td>\n",
       "      <td>26</td>\n",
       "      <td>Zacatecas</td>\n",
       "      <td>6</td>\n",
       "      <td>23</td>\n",
       "      <td>Diciembre</td>\n",
       "    </tr>\n",
       "  </tbody>\n",
       "</table>\n",
       "<p>318046 rows × 45 columns</p>\n",
       "</div>"
      ],
      "text/plain": [
       "        COBERTURA  ANIO  DIASEMANA                        URBANA  \\\n",
       "0       Municipal  2020  Miercoles     Accidente en intersección   \n",
       "1       Municipal  2020  Miercoles     Accidente en intersección   \n",
       "2       Municipal  2020  Miercoles     Accidente en intersección   \n",
       "3       Municipal  2020  Miercoles     Accidente en intersección   \n",
       "4       Municipal  2020  Miercoles     Accidente en intersección   \n",
       "...           ...   ...        ...                           ...   \n",
       "318041  Municipal  2020     Sabado  Accidente en no intersección   \n",
       "318042  Municipal  2020     Sabado  Accidente en no intersección   \n",
       "318043  Municipal  2020      lunes  Accidente en no intersección   \n",
       "318044  Municipal  2020      lunes  Accidente en no intersección   \n",
       "318045  Municipal  2020     Jueves  Accidente en no intersección   \n",
       "\n",
       "                         SUBURBANA                         TIPACCID  \\\n",
       "0       Sin accidente en esta zona  Colisión con vehículo automotor   \n",
       "1       Sin accidente en esta zona         Colisión con objeto fijo   \n",
       "2       Sin accidente en esta zona         Colisión con motocicleta   \n",
       "3       Sin accidente en esta zona  Colisión con vehículo automotor   \n",
       "4       Sin accidente en esta zona  Colisión con vehículo automotor   \n",
       "...                            ...                              ...   \n",
       "318041  Sin accidente en esta zona         Colisión con objeto fijo   \n",
       "318042  Sin accidente en esta zona  Colisión con vehículo automotor   \n",
       "318043  Sin accidente en esta zona                        Volcadura   \n",
       "318044  Sin accidente en esta zona  Colisión con vehículo automotor   \n",
       "318045  Sin accidente en esta zona                        Volcadura   \n",
       "\n",
       "        AUTOMOVIL  CAMPASAJ  MICROBUS  PASCAMION  OMNIBUS  TRANVIA  CAMIONETA  \\\n",
       "0               1         1         0          0        0        0          0   \n",
       "1               1         0         0          0        0        0          0   \n",
       "2               1         0         0          0        0        0          0   \n",
       "3               2         0         0          0        0        0          0   \n",
       "4               2         0         0          0        0        0          0   \n",
       "...           ...       ...       ...        ...      ...      ...        ...   \n",
       "318041          1         0         0          0        0        0          0   \n",
       "318042          1         1         0          0        0        0          0   \n",
       "318043          1         0         0          0        0        0          0   \n",
       "318044          1         0         0          0        0        0          1   \n",
       "318045          1         0         0          0        0        0          0   \n",
       "\n",
       "        CAMION  TRACTOR  FERROCARRI  MOTOCICLET  BICICLETA  OTROVEHIC  \\\n",
       "0            0        0           0           0          0          0   \n",
       "1            0        0           0           0          0          0   \n",
       "2            0        0           0           1          0          0   \n",
       "3            0        0           0           0          0          0   \n",
       "4            0        0           0           0          0          0   \n",
       "...        ...      ...         ...         ...        ...        ...   \n",
       "318041       0        0           0           0          0          0   \n",
       "318042       0        0           0           0          0          0   \n",
       "318043       0        0           0           0          0          0   \n",
       "318044       0        0           0           0          0          0   \n",
       "318045       0        0           0           0          0          0   \n",
       "\n",
       "        CAUSAACCI      CAPAROD     SEXO    ALIENTO   CINTURON  CONDMUERTO  \\\n",
       "0       Conductor  Pavimentada   Hombre         No  Se ignora           0   \n",
       "1       Conductor  Pavimentada   Hombre         Sí  Se ignora           0   \n",
       "2       Conductor  Pavimentada   Hombre         No  Se ignora           0   \n",
       "3       Conductor  Pavimentada   Hombre         No  Se ignora           0   \n",
       "4       Conductor  Pavimentada  Se fugó  Se ignora  Se ignora           0   \n",
       "...           ...          ...      ...        ...        ...         ...   \n",
       "318041  Conductor  Pavimentada  Se fugó  Se ignora  Se ignora           0   \n",
       "318042  Conductor  Pavimentada    Mujer         No  Se ignora           0   \n",
       "318043  Conductor  Pavimentada   Hombre         No  Se ignora           0   \n",
       "318044  Conductor  Pavimentada   Hombre         No  Se ignora           0   \n",
       "318045  Conductor  Pavimentada    Mujer         No  Se ignora           0   \n",
       "\n",
       "        CONDHERIDO  PASAMUERTO  PASAHERIDO  PEATMUERTO  PEATHERIDO  \\\n",
       "0                0           0           0           0           0   \n",
       "1                0           0           0           0           0   \n",
       "2                0           0           0           0           0   \n",
       "3                0           0           0           0           0   \n",
       "4                0           0           0           0           0   \n",
       "...            ...         ...         ...         ...         ...   \n",
       "318041           0           0           0           0           0   \n",
       "318042           0           0           0           0           0   \n",
       "318043           0           0           0           0           0   \n",
       "318044           0           0           0           0           0   \n",
       "318045           0           0           0           0           0   \n",
       "\n",
       "        CICLMUERTO  CICLHERIDO  OTROMUERTO  OTROHERIDO  NEMUERTO  NEHERIDO  \\\n",
       "0                0           0           0           0         0         0   \n",
       "1                0           0           0           0         0         0   \n",
       "2                0           0           0           0         0         0   \n",
       "3                0           0           0           0         0         0   \n",
       "4                0           0           0           0         0         0   \n",
       "...            ...         ...         ...         ...       ...       ...   \n",
       "318041           0           0           0           0         0         0   \n",
       "318042           0           0           0           0         0         0   \n",
       "318043           0           0           0           0         0         0   \n",
       "318044           0           0           0           0         0         0   \n",
       "318045           0           0           0           0         0         0   \n",
       "\n",
       "           CLASACC             ESTATUS   NOM_MUNICIPIO DESC_DIA  \\\n",
       "0       Sólo daños  Cifras Definitivas  Aguascalientes        1   \n",
       "1       Sólo daños  Cifras Definitivas  Aguascalientes        1   \n",
       "2       Sólo daños  Cifras Definitivas  Aguascalientes        1   \n",
       "3       Sólo daños  Cifras Definitivas  Aguascalientes        1   \n",
       "4       Sólo daños  Cifras Definitivas  Aguascalientes        1   \n",
       "...            ...                 ...             ...      ...   \n",
       "318041  Sólo daños  Cifras Definitivas       Zacatecas       26   \n",
       "318042  Sólo daños  Cifras Definitivas       Zacatecas       26   \n",
       "318043  Sólo daños  Cifras Definitivas       Zacatecas       28   \n",
       "318044  Sólo daños  Cifras Definitivas       Zacatecas       28   \n",
       "318045  Sólo daños  Cifras Definitivas       Zacatecas       31   \n",
       "\n",
       "                        DESC_EDAD     NOM_ENTIDAD DESC_HORA DESC_MINUTO  \\\n",
       "0                              39  Aguascalientes         0           0   \n",
       "1                              30  Aguascalientes         0           0   \n",
       "2                              18  Aguascalientes         0          10   \n",
       "3                              34  Aguascalientes         2           0   \n",
       "4       Se ignora por que se fugó  Aguascalientes         2          10   \n",
       "...                           ...             ...       ...         ...   \n",
       "318041  Se ignora por que se fugó       Zacatecas         5          15   \n",
       "318042                         54       Zacatecas        10          40   \n",
       "318043                         21       Zacatecas        17          25   \n",
       "318044                         49       Zacatecas        20          48   \n",
       "318045                         26       Zacatecas         6          23   \n",
       "\n",
       "       DESCRIPCION_MES  \n",
       "0                Enero  \n",
       "1                Enero  \n",
       "2                Enero  \n",
       "3                Enero  \n",
       "4                Enero  \n",
       "...                ...  \n",
       "318041       Diciembre  \n",
       "318042       Diciembre  \n",
       "318043       Diciembre  \n",
       "318044       Diciembre  \n",
       "318045       Diciembre  \n",
       "\n",
       "[318046 rows x 45 columns]"
      ]
     },
     "execution_count": 27,
     "metadata": {},
     "output_type": "execute_result"
    }
   ],
   "source": [
    "# Left Join with tc_municipio\n",
    "atus_transformed = atus.merge(tc_municipio, how = \"left\", on = [\"ID_ENTIDAD\", \"ID_MUNICIPIO\"])\n",
    "\n",
    "# Left Join with the rest of tables\n",
    "for id_name in list(catalogos_name_dict.keys()):\n",
    "    atus_transformed = atus_transformed.merge(catalogos_name_dict[id_name], how = \"left\", on = id_name)\n",
    "\n",
    "atus_transformed = atus_transformed.drop([\"ID_DIA\", \"ID_EDAD\", \"ID_ENTIDAD\", \"ID_HORA\", \"ID_MINUTO\", \"MES\", \"ID_MUNICIPIO\"], axis = 1)\n",
    "atus_transformed"
   ]
  },
  {
   "cell_type": "code",
   "execution_count": 33,
   "metadata": {},
   "outputs": [],
   "source": [
    "# Dict of months\n",
    "month_dict = {\"Enero\": \"01\",\n",
    "            \"Febrero\": \"02\",\n",
    "            \"Marzo\": \"03\",\n",
    "            \"Abril\": \"04\",\n",
    "            \"Mayo\": \"05\",\n",
    "            \"Junio\": \"06\",\n",
    "            \"Julio\": \"07\",\n",
    "            \"Agosto\": \"08\",\n",
    "            \"Septiembre\": \"09\",\n",
    "            \"Octubre\": \"10\",\n",
    "            \"Noviembre\": \"11\",\n",
    "            \"Diciembre\": \"12\",\n",
    "            }"
   ]
  },
  {
   "cell_type": "code",
   "execution_count": 46,
   "metadata": {},
   "outputs": [],
   "source": [
    "# Create day and month\n",
    "day = atus_transformed[\"DESC_DIA\"].apply(lambda x: str(x)).apply(lambda x: \"0\" + x if len(x) == 1 else x)\n",
    "month = atus_transformed[\"DESCRIPCION_MES\"].map(month_dict)"
   ]
  },
  {
   "cell_type": "code",
   "execution_count": 51,
   "metadata": {},
   "outputs": [],
   "source": [
    "# Create FECHA column\n",
    "atus_transformed[\"FECHA\"] = pd.to_datetime(day + \"-\" + month + \"-\" + \"2020\", format = \"%d-%m-%Y\")"
   ]
  },
  {
   "cell_type": "code",
   "execution_count": 52,
   "metadata": {},
   "outputs": [
    {
     "data": {
      "text/html": [
       "<div>\n",
       "<style scoped>\n",
       "    .dataframe tbody tr th:only-of-type {\n",
       "        vertical-align: middle;\n",
       "    }\n",
       "\n",
       "    .dataframe tbody tr th {\n",
       "        vertical-align: top;\n",
       "    }\n",
       "\n",
       "    .dataframe thead th {\n",
       "        text-align: right;\n",
       "    }\n",
       "</style>\n",
       "<table border=\"1\" class=\"dataframe\">\n",
       "  <thead>\n",
       "    <tr style=\"text-align: right;\">\n",
       "      <th></th>\n",
       "      <th>COBERTURA</th>\n",
       "      <th>ANIO</th>\n",
       "      <th>DIASEMANA</th>\n",
       "      <th>URBANA</th>\n",
       "      <th>SUBURBANA</th>\n",
       "      <th>TIPACCID</th>\n",
       "      <th>AUTOMOVIL</th>\n",
       "      <th>CAMPASAJ</th>\n",
       "      <th>MICROBUS</th>\n",
       "      <th>PASCAMION</th>\n",
       "      <th>OMNIBUS</th>\n",
       "      <th>TRANVIA</th>\n",
       "      <th>CAMIONETA</th>\n",
       "      <th>CAMION</th>\n",
       "      <th>TRACTOR</th>\n",
       "      <th>FERROCARRI</th>\n",
       "      <th>MOTOCICLET</th>\n",
       "      <th>BICICLETA</th>\n",
       "      <th>OTROVEHIC</th>\n",
       "      <th>CAUSAACCI</th>\n",
       "      <th>CAPAROD</th>\n",
       "      <th>SEXO</th>\n",
       "      <th>ALIENTO</th>\n",
       "      <th>CINTURON</th>\n",
       "      <th>CONDMUERTO</th>\n",
       "      <th>CONDHERIDO</th>\n",
       "      <th>PASAMUERTO</th>\n",
       "      <th>PASAHERIDO</th>\n",
       "      <th>PEATMUERTO</th>\n",
       "      <th>PEATHERIDO</th>\n",
       "      <th>CICLMUERTO</th>\n",
       "      <th>CICLHERIDO</th>\n",
       "      <th>OTROMUERTO</th>\n",
       "      <th>OTROHERIDO</th>\n",
       "      <th>NEMUERTO</th>\n",
       "      <th>NEHERIDO</th>\n",
       "      <th>CLASACC</th>\n",
       "      <th>ESTATUS</th>\n",
       "      <th>NOM_MUNICIPIO</th>\n",
       "      <th>DESC_DIA</th>\n",
       "      <th>DESC_EDAD</th>\n",
       "      <th>NOM_ENTIDAD</th>\n",
       "      <th>DESC_HORA</th>\n",
       "      <th>DESC_MINUTO</th>\n",
       "      <th>DESCRIPCION_MES</th>\n",
       "      <th>FECHA</th>\n",
       "    </tr>\n",
       "  </thead>\n",
       "  <tbody>\n",
       "    <tr>\n",
       "      <th>0</th>\n",
       "      <td>Municipal</td>\n",
       "      <td>2020</td>\n",
       "      <td>Miercoles</td>\n",
       "      <td>Accidente en intersección</td>\n",
       "      <td>Sin accidente en esta zona</td>\n",
       "      <td>Colisión con vehículo automotor</td>\n",
       "      <td>1</td>\n",
       "      <td>1</td>\n",
       "      <td>0</td>\n",
       "      <td>0</td>\n",
       "      <td>0</td>\n",
       "      <td>0</td>\n",
       "      <td>0</td>\n",
       "      <td>0</td>\n",
       "      <td>0</td>\n",
       "      <td>0</td>\n",
       "      <td>0</td>\n",
       "      <td>0</td>\n",
       "      <td>0</td>\n",
       "      <td>Conductor</td>\n",
       "      <td>Pavimentada</td>\n",
       "      <td>Hombre</td>\n",
       "      <td>No</td>\n",
       "      <td>Se ignora</td>\n",
       "      <td>0</td>\n",
       "      <td>0</td>\n",
       "      <td>0</td>\n",
       "      <td>0</td>\n",
       "      <td>0</td>\n",
       "      <td>0</td>\n",
       "      <td>0</td>\n",
       "      <td>0</td>\n",
       "      <td>0</td>\n",
       "      <td>0</td>\n",
       "      <td>0</td>\n",
       "      <td>0</td>\n",
       "      <td>Sólo daños</td>\n",
       "      <td>Cifras Definitivas</td>\n",
       "      <td>Aguascalientes</td>\n",
       "      <td>1</td>\n",
       "      <td>39</td>\n",
       "      <td>Aguascalientes</td>\n",
       "      <td>0</td>\n",
       "      <td>0</td>\n",
       "      <td>Enero</td>\n",
       "      <td>2020-01-01</td>\n",
       "    </tr>\n",
       "    <tr>\n",
       "      <th>1</th>\n",
       "      <td>Municipal</td>\n",
       "      <td>2020</td>\n",
       "      <td>Miercoles</td>\n",
       "      <td>Accidente en intersección</td>\n",
       "      <td>Sin accidente en esta zona</td>\n",
       "      <td>Colisión con objeto fijo</td>\n",
       "      <td>1</td>\n",
       "      <td>0</td>\n",
       "      <td>0</td>\n",
       "      <td>0</td>\n",
       "      <td>0</td>\n",
       "      <td>0</td>\n",
       "      <td>0</td>\n",
       "      <td>0</td>\n",
       "      <td>0</td>\n",
       "      <td>0</td>\n",
       "      <td>0</td>\n",
       "      <td>0</td>\n",
       "      <td>0</td>\n",
       "      <td>Conductor</td>\n",
       "      <td>Pavimentada</td>\n",
       "      <td>Hombre</td>\n",
       "      <td>Sí</td>\n",
       "      <td>Se ignora</td>\n",
       "      <td>0</td>\n",
       "      <td>0</td>\n",
       "      <td>0</td>\n",
       "      <td>0</td>\n",
       "      <td>0</td>\n",
       "      <td>0</td>\n",
       "      <td>0</td>\n",
       "      <td>0</td>\n",
       "      <td>0</td>\n",
       "      <td>0</td>\n",
       "      <td>0</td>\n",
       "      <td>0</td>\n",
       "      <td>Sólo daños</td>\n",
       "      <td>Cifras Definitivas</td>\n",
       "      <td>Aguascalientes</td>\n",
       "      <td>1</td>\n",
       "      <td>30</td>\n",
       "      <td>Aguascalientes</td>\n",
       "      <td>0</td>\n",
       "      <td>0</td>\n",
       "      <td>Enero</td>\n",
       "      <td>2020-01-01</td>\n",
       "    </tr>\n",
       "    <tr>\n",
       "      <th>2</th>\n",
       "      <td>Municipal</td>\n",
       "      <td>2020</td>\n",
       "      <td>Miercoles</td>\n",
       "      <td>Accidente en intersección</td>\n",
       "      <td>Sin accidente en esta zona</td>\n",
       "      <td>Colisión con motocicleta</td>\n",
       "      <td>1</td>\n",
       "      <td>0</td>\n",
       "      <td>0</td>\n",
       "      <td>0</td>\n",
       "      <td>0</td>\n",
       "      <td>0</td>\n",
       "      <td>0</td>\n",
       "      <td>0</td>\n",
       "      <td>0</td>\n",
       "      <td>0</td>\n",
       "      <td>1</td>\n",
       "      <td>0</td>\n",
       "      <td>0</td>\n",
       "      <td>Conductor</td>\n",
       "      <td>Pavimentada</td>\n",
       "      <td>Hombre</td>\n",
       "      <td>No</td>\n",
       "      <td>Se ignora</td>\n",
       "      <td>0</td>\n",
       "      <td>0</td>\n",
       "      <td>0</td>\n",
       "      <td>0</td>\n",
       "      <td>0</td>\n",
       "      <td>0</td>\n",
       "      <td>0</td>\n",
       "      <td>0</td>\n",
       "      <td>0</td>\n",
       "      <td>0</td>\n",
       "      <td>0</td>\n",
       "      <td>0</td>\n",
       "      <td>Sólo daños</td>\n",
       "      <td>Cifras Definitivas</td>\n",
       "      <td>Aguascalientes</td>\n",
       "      <td>1</td>\n",
       "      <td>18</td>\n",
       "      <td>Aguascalientes</td>\n",
       "      <td>0</td>\n",
       "      <td>10</td>\n",
       "      <td>Enero</td>\n",
       "      <td>2020-01-01</td>\n",
       "    </tr>\n",
       "    <tr>\n",
       "      <th>3</th>\n",
       "      <td>Municipal</td>\n",
       "      <td>2020</td>\n",
       "      <td>Miercoles</td>\n",
       "      <td>Accidente en intersección</td>\n",
       "      <td>Sin accidente en esta zona</td>\n",
       "      <td>Colisión con vehículo automotor</td>\n",
       "      <td>2</td>\n",
       "      <td>0</td>\n",
       "      <td>0</td>\n",
       "      <td>0</td>\n",
       "      <td>0</td>\n",
       "      <td>0</td>\n",
       "      <td>0</td>\n",
       "      <td>0</td>\n",
       "      <td>0</td>\n",
       "      <td>0</td>\n",
       "      <td>0</td>\n",
       "      <td>0</td>\n",
       "      <td>0</td>\n",
       "      <td>Conductor</td>\n",
       "      <td>Pavimentada</td>\n",
       "      <td>Hombre</td>\n",
       "      <td>No</td>\n",
       "      <td>Se ignora</td>\n",
       "      <td>0</td>\n",
       "      <td>0</td>\n",
       "      <td>0</td>\n",
       "      <td>0</td>\n",
       "      <td>0</td>\n",
       "      <td>0</td>\n",
       "      <td>0</td>\n",
       "      <td>0</td>\n",
       "      <td>0</td>\n",
       "      <td>0</td>\n",
       "      <td>0</td>\n",
       "      <td>0</td>\n",
       "      <td>Sólo daños</td>\n",
       "      <td>Cifras Definitivas</td>\n",
       "      <td>Aguascalientes</td>\n",
       "      <td>1</td>\n",
       "      <td>34</td>\n",
       "      <td>Aguascalientes</td>\n",
       "      <td>2</td>\n",
       "      <td>0</td>\n",
       "      <td>Enero</td>\n",
       "      <td>2020-01-01</td>\n",
       "    </tr>\n",
       "    <tr>\n",
       "      <th>4</th>\n",
       "      <td>Municipal</td>\n",
       "      <td>2020</td>\n",
       "      <td>Miercoles</td>\n",
       "      <td>Accidente en intersección</td>\n",
       "      <td>Sin accidente en esta zona</td>\n",
       "      <td>Colisión con vehículo automotor</td>\n",
       "      <td>2</td>\n",
       "      <td>0</td>\n",
       "      <td>0</td>\n",
       "      <td>0</td>\n",
       "      <td>0</td>\n",
       "      <td>0</td>\n",
       "      <td>0</td>\n",
       "      <td>0</td>\n",
       "      <td>0</td>\n",
       "      <td>0</td>\n",
       "      <td>0</td>\n",
       "      <td>0</td>\n",
       "      <td>0</td>\n",
       "      <td>Conductor</td>\n",
       "      <td>Pavimentada</td>\n",
       "      <td>Se fugó</td>\n",
       "      <td>Se ignora</td>\n",
       "      <td>Se ignora</td>\n",
       "      <td>0</td>\n",
       "      <td>0</td>\n",
       "      <td>0</td>\n",
       "      <td>0</td>\n",
       "      <td>0</td>\n",
       "      <td>0</td>\n",
       "      <td>0</td>\n",
       "      <td>0</td>\n",
       "      <td>0</td>\n",
       "      <td>0</td>\n",
       "      <td>0</td>\n",
       "      <td>0</td>\n",
       "      <td>Sólo daños</td>\n",
       "      <td>Cifras Definitivas</td>\n",
       "      <td>Aguascalientes</td>\n",
       "      <td>1</td>\n",
       "      <td>Se ignora por que se fugó</td>\n",
       "      <td>Aguascalientes</td>\n",
       "      <td>2</td>\n",
       "      <td>10</td>\n",
       "      <td>Enero</td>\n",
       "      <td>2020-01-01</td>\n",
       "    </tr>\n",
       "  </tbody>\n",
       "</table>\n",
       "</div>"
      ],
      "text/plain": [
       "   COBERTURA  ANIO  DIASEMANA                     URBANA  \\\n",
       "0  Municipal  2020  Miercoles  Accidente en intersección   \n",
       "1  Municipal  2020  Miercoles  Accidente en intersección   \n",
       "2  Municipal  2020  Miercoles  Accidente en intersección   \n",
       "3  Municipal  2020  Miercoles  Accidente en intersección   \n",
       "4  Municipal  2020  Miercoles  Accidente en intersección   \n",
       "\n",
       "                    SUBURBANA                         TIPACCID  AUTOMOVIL  \\\n",
       "0  Sin accidente en esta zona  Colisión con vehículo automotor          1   \n",
       "1  Sin accidente en esta zona         Colisión con objeto fijo          1   \n",
       "2  Sin accidente en esta zona         Colisión con motocicleta          1   \n",
       "3  Sin accidente en esta zona  Colisión con vehículo automotor          2   \n",
       "4  Sin accidente en esta zona  Colisión con vehículo automotor          2   \n",
       "\n",
       "   CAMPASAJ  MICROBUS  PASCAMION  OMNIBUS  TRANVIA  CAMIONETA  CAMION  \\\n",
       "0         1         0          0        0        0          0       0   \n",
       "1         0         0          0        0        0          0       0   \n",
       "2         0         0          0        0        0          0       0   \n",
       "3         0         0          0        0        0          0       0   \n",
       "4         0         0          0        0        0          0       0   \n",
       "\n",
       "   TRACTOR  FERROCARRI  MOTOCICLET  BICICLETA  OTROVEHIC  CAUSAACCI  \\\n",
       "0        0           0           0          0          0  Conductor   \n",
       "1        0           0           0          0          0  Conductor   \n",
       "2        0           0           1          0          0  Conductor   \n",
       "3        0           0           0          0          0  Conductor   \n",
       "4        0           0           0          0          0  Conductor   \n",
       "\n",
       "       CAPAROD     SEXO    ALIENTO   CINTURON  CONDMUERTO  CONDHERIDO  \\\n",
       "0  Pavimentada   Hombre         No  Se ignora           0           0   \n",
       "1  Pavimentada   Hombre         Sí  Se ignora           0           0   \n",
       "2  Pavimentada   Hombre         No  Se ignora           0           0   \n",
       "3  Pavimentada   Hombre         No  Se ignora           0           0   \n",
       "4  Pavimentada  Se fugó  Se ignora  Se ignora           0           0   \n",
       "\n",
       "   PASAMUERTO  PASAHERIDO  PEATMUERTO  PEATHERIDO  CICLMUERTO  CICLHERIDO  \\\n",
       "0           0           0           0           0           0           0   \n",
       "1           0           0           0           0           0           0   \n",
       "2           0           0           0           0           0           0   \n",
       "3           0           0           0           0           0           0   \n",
       "4           0           0           0           0           0           0   \n",
       "\n",
       "   OTROMUERTO  OTROHERIDO  NEMUERTO  NEHERIDO     CLASACC             ESTATUS  \\\n",
       "0           0           0         0         0  Sólo daños  Cifras Definitivas   \n",
       "1           0           0         0         0  Sólo daños  Cifras Definitivas   \n",
       "2           0           0         0         0  Sólo daños  Cifras Definitivas   \n",
       "3           0           0         0         0  Sólo daños  Cifras Definitivas   \n",
       "4           0           0         0         0  Sólo daños  Cifras Definitivas   \n",
       "\n",
       "    NOM_MUNICIPIO DESC_DIA                  DESC_EDAD     NOM_ENTIDAD  \\\n",
       "0  Aguascalientes        1                         39  Aguascalientes   \n",
       "1  Aguascalientes        1                         30  Aguascalientes   \n",
       "2  Aguascalientes        1                         18  Aguascalientes   \n",
       "3  Aguascalientes        1                         34  Aguascalientes   \n",
       "4  Aguascalientes        1  Se ignora por que se fugó  Aguascalientes   \n",
       "\n",
       "  DESC_HORA DESC_MINUTO DESCRIPCION_MES      FECHA  \n",
       "0         0           0           Enero 2020-01-01  \n",
       "1         0           0           Enero 2020-01-01  \n",
       "2         0          10           Enero 2020-01-01  \n",
       "3         2           0           Enero 2020-01-01  \n",
       "4         2          10           Enero 2020-01-01  "
      ]
     },
     "execution_count": 52,
     "metadata": {},
     "output_type": "execute_result"
    }
   ],
   "source": [
    "atus_transformed.head()"
   ]
  },
  {
   "cell_type": "markdown",
   "metadata": {},
   "source": [
    "# Exploratory Data Analysis"
   ]
  },
  {
   "cell_type": "code",
   "execution_count": 14,
   "metadata": {},
   "outputs": [
    {
     "data": {
      "application/vnd.plotly.v1+json": {
       "config": {
        "plotlyServerURL": "https://plot.ly"
       },
       "data": [
        {
         "alignmentgroup": "True",
         "hovertemplate": "TIPACCID=%{x}<br>Counts=%{y}<extra></extra>",
         "legendgroup": "",
         "marker": {
          "color": "#636efa",
          "pattern": {
           "shape": ""
          }
         },
         "name": "",
         "offsetgroup": "",
         "orientation": "v",
         "showlegend": false,
         "textposition": "auto",
         "type": "bar",
         "x": [
          "Caída de pasajero",
          "Certificado cero",
          "Colisión con animal",
          "Colisión con ciclista",
          "Colisión con ferrocarril",
          "Colisión con motocicleta",
          "Colisión con objeto fijo",
          "Colisión con peatón (atropellamiento)",
          "Colisión con vehículo automotor",
          "Incendio",
          "Otro",
          "Salida del camino",
          "Volcadura"
         ],
         "xaxis": "x",
         "y": [
          1408,
          16368,
          932,
          3680,
          198,
          40753,
          42243,
          9432,
          179696,
          243,
          5791,
          8827,
          8475
         ],
         "yaxis": "y"
        }
       ],
       "layout": {
        "barmode": "relative",
        "legend": {
         "tracegroupgap": 0
        },
        "margin": {
         "t": 60
        },
        "template": {
         "data": {
          "bar": [
           {
            "error_x": {
             "color": "#2a3f5f"
            },
            "error_y": {
             "color": "#2a3f5f"
            },
            "marker": {
             "line": {
              "color": "#E5ECF6",
              "width": 0.5
             },
             "pattern": {
              "fillmode": "overlay",
              "size": 10,
              "solidity": 0.2
             }
            },
            "type": "bar"
           }
          ],
          "barpolar": [
           {
            "marker": {
             "line": {
              "color": "#E5ECF6",
              "width": 0.5
             },
             "pattern": {
              "fillmode": "overlay",
              "size": 10,
              "solidity": 0.2
             }
            },
            "type": "barpolar"
           }
          ],
          "carpet": [
           {
            "aaxis": {
             "endlinecolor": "#2a3f5f",
             "gridcolor": "white",
             "linecolor": "white",
             "minorgridcolor": "white",
             "startlinecolor": "#2a3f5f"
            },
            "baxis": {
             "endlinecolor": "#2a3f5f",
             "gridcolor": "white",
             "linecolor": "white",
             "minorgridcolor": "white",
             "startlinecolor": "#2a3f5f"
            },
            "type": "carpet"
           }
          ],
          "choropleth": [
           {
            "colorbar": {
             "outlinewidth": 0,
             "ticks": ""
            },
            "type": "choropleth"
           }
          ],
          "contour": [
           {
            "colorbar": {
             "outlinewidth": 0,
             "ticks": ""
            },
            "colorscale": [
             [
              0,
              "#0d0887"
             ],
             [
              0.1111111111111111,
              "#46039f"
             ],
             [
              0.2222222222222222,
              "#7201a8"
             ],
             [
              0.3333333333333333,
              "#9c179e"
             ],
             [
              0.4444444444444444,
              "#bd3786"
             ],
             [
              0.5555555555555556,
              "#d8576b"
             ],
             [
              0.6666666666666666,
              "#ed7953"
             ],
             [
              0.7777777777777778,
              "#fb9f3a"
             ],
             [
              0.8888888888888888,
              "#fdca26"
             ],
             [
              1,
              "#f0f921"
             ]
            ],
            "type": "contour"
           }
          ],
          "contourcarpet": [
           {
            "colorbar": {
             "outlinewidth": 0,
             "ticks": ""
            },
            "type": "contourcarpet"
           }
          ],
          "heatmap": [
           {
            "colorbar": {
             "outlinewidth": 0,
             "ticks": ""
            },
            "colorscale": [
             [
              0,
              "#0d0887"
             ],
             [
              0.1111111111111111,
              "#46039f"
             ],
             [
              0.2222222222222222,
              "#7201a8"
             ],
             [
              0.3333333333333333,
              "#9c179e"
             ],
             [
              0.4444444444444444,
              "#bd3786"
             ],
             [
              0.5555555555555556,
              "#d8576b"
             ],
             [
              0.6666666666666666,
              "#ed7953"
             ],
             [
              0.7777777777777778,
              "#fb9f3a"
             ],
             [
              0.8888888888888888,
              "#fdca26"
             ],
             [
              1,
              "#f0f921"
             ]
            ],
            "type": "heatmap"
           }
          ],
          "heatmapgl": [
           {
            "colorbar": {
             "outlinewidth": 0,
             "ticks": ""
            },
            "colorscale": [
             [
              0,
              "#0d0887"
             ],
             [
              0.1111111111111111,
              "#46039f"
             ],
             [
              0.2222222222222222,
              "#7201a8"
             ],
             [
              0.3333333333333333,
              "#9c179e"
             ],
             [
              0.4444444444444444,
              "#bd3786"
             ],
             [
              0.5555555555555556,
              "#d8576b"
             ],
             [
              0.6666666666666666,
              "#ed7953"
             ],
             [
              0.7777777777777778,
              "#fb9f3a"
             ],
             [
              0.8888888888888888,
              "#fdca26"
             ],
             [
              1,
              "#f0f921"
             ]
            ],
            "type": "heatmapgl"
           }
          ],
          "histogram": [
           {
            "marker": {
             "pattern": {
              "fillmode": "overlay",
              "size": 10,
              "solidity": 0.2
             }
            },
            "type": "histogram"
           }
          ],
          "histogram2d": [
           {
            "colorbar": {
             "outlinewidth": 0,
             "ticks": ""
            },
            "colorscale": [
             [
              0,
              "#0d0887"
             ],
             [
              0.1111111111111111,
              "#46039f"
             ],
             [
              0.2222222222222222,
              "#7201a8"
             ],
             [
              0.3333333333333333,
              "#9c179e"
             ],
             [
              0.4444444444444444,
              "#bd3786"
             ],
             [
              0.5555555555555556,
              "#d8576b"
             ],
             [
              0.6666666666666666,
              "#ed7953"
             ],
             [
              0.7777777777777778,
              "#fb9f3a"
             ],
             [
              0.8888888888888888,
              "#fdca26"
             ],
             [
              1,
              "#f0f921"
             ]
            ],
            "type": "histogram2d"
           }
          ],
          "histogram2dcontour": [
           {
            "colorbar": {
             "outlinewidth": 0,
             "ticks": ""
            },
            "colorscale": [
             [
              0,
              "#0d0887"
             ],
             [
              0.1111111111111111,
              "#46039f"
             ],
             [
              0.2222222222222222,
              "#7201a8"
             ],
             [
              0.3333333333333333,
              "#9c179e"
             ],
             [
              0.4444444444444444,
              "#bd3786"
             ],
             [
              0.5555555555555556,
              "#d8576b"
             ],
             [
              0.6666666666666666,
              "#ed7953"
             ],
             [
              0.7777777777777778,
              "#fb9f3a"
             ],
             [
              0.8888888888888888,
              "#fdca26"
             ],
             [
              1,
              "#f0f921"
             ]
            ],
            "type": "histogram2dcontour"
           }
          ],
          "mesh3d": [
           {
            "colorbar": {
             "outlinewidth": 0,
             "ticks": ""
            },
            "type": "mesh3d"
           }
          ],
          "parcoords": [
           {
            "line": {
             "colorbar": {
              "outlinewidth": 0,
              "ticks": ""
             }
            },
            "type": "parcoords"
           }
          ],
          "pie": [
           {
            "automargin": true,
            "type": "pie"
           }
          ],
          "scatter": [
           {
            "marker": {
             "colorbar": {
              "outlinewidth": 0,
              "ticks": ""
             }
            },
            "type": "scatter"
           }
          ],
          "scatter3d": [
           {
            "line": {
             "colorbar": {
              "outlinewidth": 0,
              "ticks": ""
             }
            },
            "marker": {
             "colorbar": {
              "outlinewidth": 0,
              "ticks": ""
             }
            },
            "type": "scatter3d"
           }
          ],
          "scattercarpet": [
           {
            "marker": {
             "colorbar": {
              "outlinewidth": 0,
              "ticks": ""
             }
            },
            "type": "scattercarpet"
           }
          ],
          "scattergeo": [
           {
            "marker": {
             "colorbar": {
              "outlinewidth": 0,
              "ticks": ""
             }
            },
            "type": "scattergeo"
           }
          ],
          "scattergl": [
           {
            "marker": {
             "colorbar": {
              "outlinewidth": 0,
              "ticks": ""
             }
            },
            "type": "scattergl"
           }
          ],
          "scattermapbox": [
           {
            "marker": {
             "colorbar": {
              "outlinewidth": 0,
              "ticks": ""
             }
            },
            "type": "scattermapbox"
           }
          ],
          "scatterpolar": [
           {
            "marker": {
             "colorbar": {
              "outlinewidth": 0,
              "ticks": ""
             }
            },
            "type": "scatterpolar"
           }
          ],
          "scatterpolargl": [
           {
            "marker": {
             "colorbar": {
              "outlinewidth": 0,
              "ticks": ""
             }
            },
            "type": "scatterpolargl"
           }
          ],
          "scatterternary": [
           {
            "marker": {
             "colorbar": {
              "outlinewidth": 0,
              "ticks": ""
             }
            },
            "type": "scatterternary"
           }
          ],
          "surface": [
           {
            "colorbar": {
             "outlinewidth": 0,
             "ticks": ""
            },
            "colorscale": [
             [
              0,
              "#0d0887"
             ],
             [
              0.1111111111111111,
              "#46039f"
             ],
             [
              0.2222222222222222,
              "#7201a8"
             ],
             [
              0.3333333333333333,
              "#9c179e"
             ],
             [
              0.4444444444444444,
              "#bd3786"
             ],
             [
              0.5555555555555556,
              "#d8576b"
             ],
             [
              0.6666666666666666,
              "#ed7953"
             ],
             [
              0.7777777777777778,
              "#fb9f3a"
             ],
             [
              0.8888888888888888,
              "#fdca26"
             ],
             [
              1,
              "#f0f921"
             ]
            ],
            "type": "surface"
           }
          ],
          "table": [
           {
            "cells": {
             "fill": {
              "color": "#EBF0F8"
             },
             "line": {
              "color": "white"
             }
            },
            "header": {
             "fill": {
              "color": "#C8D4E3"
             },
             "line": {
              "color": "white"
             }
            },
            "type": "table"
           }
          ]
         },
         "layout": {
          "annotationdefaults": {
           "arrowcolor": "#2a3f5f",
           "arrowhead": 0,
           "arrowwidth": 1
          },
          "autotypenumbers": "strict",
          "coloraxis": {
           "colorbar": {
            "outlinewidth": 0,
            "ticks": ""
           }
          },
          "colorscale": {
           "diverging": [
            [
             0,
             "#8e0152"
            ],
            [
             0.1,
             "#c51b7d"
            ],
            [
             0.2,
             "#de77ae"
            ],
            [
             0.3,
             "#f1b6da"
            ],
            [
             0.4,
             "#fde0ef"
            ],
            [
             0.5,
             "#f7f7f7"
            ],
            [
             0.6,
             "#e6f5d0"
            ],
            [
             0.7,
             "#b8e186"
            ],
            [
             0.8,
             "#7fbc41"
            ],
            [
             0.9,
             "#4d9221"
            ],
            [
             1,
             "#276419"
            ]
           ],
           "sequential": [
            [
             0,
             "#0d0887"
            ],
            [
             0.1111111111111111,
             "#46039f"
            ],
            [
             0.2222222222222222,
             "#7201a8"
            ],
            [
             0.3333333333333333,
             "#9c179e"
            ],
            [
             0.4444444444444444,
             "#bd3786"
            ],
            [
             0.5555555555555556,
             "#d8576b"
            ],
            [
             0.6666666666666666,
             "#ed7953"
            ],
            [
             0.7777777777777778,
             "#fb9f3a"
            ],
            [
             0.8888888888888888,
             "#fdca26"
            ],
            [
             1,
             "#f0f921"
            ]
           ],
           "sequentialminus": [
            [
             0,
             "#0d0887"
            ],
            [
             0.1111111111111111,
             "#46039f"
            ],
            [
             0.2222222222222222,
             "#7201a8"
            ],
            [
             0.3333333333333333,
             "#9c179e"
            ],
            [
             0.4444444444444444,
             "#bd3786"
            ],
            [
             0.5555555555555556,
             "#d8576b"
            ],
            [
             0.6666666666666666,
             "#ed7953"
            ],
            [
             0.7777777777777778,
             "#fb9f3a"
            ],
            [
             0.8888888888888888,
             "#fdca26"
            ],
            [
             1,
             "#f0f921"
            ]
           ]
          },
          "colorway": [
           "#636efa",
           "#EF553B",
           "#00cc96",
           "#ab63fa",
           "#FFA15A",
           "#19d3f3",
           "#FF6692",
           "#B6E880",
           "#FF97FF",
           "#FECB52"
          ],
          "font": {
           "color": "#2a3f5f"
          },
          "geo": {
           "bgcolor": "white",
           "lakecolor": "white",
           "landcolor": "#E5ECF6",
           "showlakes": true,
           "showland": true,
           "subunitcolor": "white"
          },
          "hoverlabel": {
           "align": "left"
          },
          "hovermode": "closest",
          "mapbox": {
           "style": "light"
          },
          "paper_bgcolor": "white",
          "plot_bgcolor": "#E5ECF6",
          "polar": {
           "angularaxis": {
            "gridcolor": "white",
            "linecolor": "white",
            "ticks": ""
           },
           "bgcolor": "#E5ECF6",
           "radialaxis": {
            "gridcolor": "white",
            "linecolor": "white",
            "ticks": ""
           }
          },
          "scene": {
           "xaxis": {
            "backgroundcolor": "#E5ECF6",
            "gridcolor": "white",
            "gridwidth": 2,
            "linecolor": "white",
            "showbackground": true,
            "ticks": "",
            "zerolinecolor": "white"
           },
           "yaxis": {
            "backgroundcolor": "#E5ECF6",
            "gridcolor": "white",
            "gridwidth": 2,
            "linecolor": "white",
            "showbackground": true,
            "ticks": "",
            "zerolinecolor": "white"
           },
           "zaxis": {
            "backgroundcolor": "#E5ECF6",
            "gridcolor": "white",
            "gridwidth": 2,
            "linecolor": "white",
            "showbackground": true,
            "ticks": "",
            "zerolinecolor": "white"
           }
          },
          "shapedefaults": {
           "line": {
            "color": "#2a3f5f"
           }
          },
          "ternary": {
           "aaxis": {
            "gridcolor": "white",
            "linecolor": "white",
            "ticks": ""
           },
           "baxis": {
            "gridcolor": "white",
            "linecolor": "white",
            "ticks": ""
           },
           "bgcolor": "#E5ECF6",
           "caxis": {
            "gridcolor": "white",
            "linecolor": "white",
            "ticks": ""
           }
          },
          "title": {
           "x": 0.05
          },
          "xaxis": {
           "automargin": true,
           "gridcolor": "white",
           "linecolor": "white",
           "ticks": "",
           "title": {
            "standoff": 15
           },
           "zerolinecolor": "white",
           "zerolinewidth": 2
          },
          "yaxis": {
           "automargin": true,
           "gridcolor": "white",
           "linecolor": "white",
           "ticks": "",
           "title": {
            "standoff": 15
           },
           "zerolinecolor": "white",
           "zerolinewidth": 2
          }
         }
        },
        "xaxis": {
         "anchor": "y",
         "domain": [
          0,
          1
         ],
         "title": {
          "text": "TIPACCID"
         }
        },
        "yaxis": {
         "anchor": "x",
         "domain": [
          0,
          1
         ],
         "title": {
          "text": "Counts"
         }
        }
       }
      }
     },
     "metadata": {},
     "output_type": "display_data"
    }
   ],
   "source": [
    "# Bar Plot\n",
    "items, counts = np.unique(atus[\"TIPACCID\"], return_counts = True) \n",
    "pd.DataFrame({\"TIPACCID\": items, \"Counts\": counts}).plot.bar(x = \"TIPACCID\", y = \"Counts\")"
   ]
  },
  {
   "cell_type": "code",
   "execution_count": null,
   "metadata": {},
   "outputs": [],
   "source": [
    "# Left Join with the rest of tables"
   ]
  }
 ],
 "metadata": {
  "interpreter": {
   "hash": "75d36be367dcb6d44be0fcb187d0e00b2d2184ef570c19a3a84cacabc07ab80c"
  },
  "kernelspec": {
   "display_name": "Python 3.10.0 64-bit ('ds': venv)",
   "language": "python",
   "name": "python3"
  },
  "language_info": {
   "codemirror_mode": {
    "name": "ipython",
    "version": 3
   },
   "file_extension": ".py",
   "mimetype": "text/x-python",
   "name": "python",
   "nbconvert_exporter": "python",
   "pygments_lexer": "ipython3",
   "version": "3.10.0"
  },
  "orig_nbformat": 4
 },
 "nbformat": 4,
 "nbformat_minor": 2
}
