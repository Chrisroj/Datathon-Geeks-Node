{
 "cells": [
  {
   "cell_type": "code",
   "execution_count": 64,
   "metadata": {},
   "outputs": [],
   "source": [
    "# Data Processing\n",
    "import os\n",
    "import numpy  as np\n",
    "import pandas as pd\n",
    "\n",
    "# Set Parameters for Pandas\n",
    "pd.set_option(\"display.max_columns\", None)\n",
    "pd.options.plotting.backend = \"plotly\"\n"
   ]
  },
  {
   "cell_type": "markdown",
   "metadata": {},
   "source": [
    "# Functions"
   ]
  },
  {
   "cell_type": "code",
   "execution_count": 42,
   "metadata": {},
   "outputs": [],
   "source": [
    "def read_csv_atus(df_path: pd.DataFrame):\n",
    "    \"\"\"This function load a atus csv file correctly. \n",
    "\n",
    "    Args:\n",
    "        df_path (pd.DataFrame): File path of the atus csv.\n",
    "\n",
    "    Returns:\n",
    "        _type_: DataFrame of atus file.\n",
    "    \"\"\"\n",
    "    df = pd.read_csv(df_path)\n",
    "    aux_columns = df.columns\n",
    "    df = df.drop(\"ESTATUS\", axis = 1).reset_index()\n",
    "    df.columns = aux_columns\n",
    "    \n",
    "    return df"
   ]
  },
  {
   "cell_type": "code",
   "execution_count": 43,
   "metadata": {},
   "outputs": [],
   "source": [
    "# Data Path's\n",
    "path_data_set = \"atus_anual_1997_2020/conjunto_de_datos\""
   ]
  },
  {
   "cell_type": "code",
   "execution_count": 66,
   "metadata": {},
   "outputs": [],
   "source": [
    "# Test with a year\n",
    "file_test = os.listdir(path_data_set)[10]"
   ]
  },
  {
   "cell_type": "code",
   "execution_count": 67,
   "metadata": {},
   "outputs": [],
   "source": [
    "# Read csv\n",
    "atus = read_csv_atus(os.path.join(path_data_set, file_test))"
   ]
  },
  {
   "cell_type": "code",
   "execution_count": 68,
   "metadata": {},
   "outputs": [],
   "source": [
    "items, counts = np.unique(atus[\"TIPACCID\"], return_counts = True) "
   ]
  },
  {
   "cell_type": "code",
   "execution_count": 69,
   "metadata": {},
   "outputs": [
    {
     "data": {
      "application/vnd.plotly.v1+json": {
       "config": {
        "plotlyServerURL": "https://plot.ly"
       },
       "data": [
        {
         "alignmentgroup": "True",
         "hovertemplate": "TIPACCID=%{x}<br>Counts=%{y}<extra></extra>",
         "legendgroup": "",
         "marker": {
          "color": "#636efa",
          "pattern": {
           "shape": ""
          }
         },
         "name": "",
         "offsetgroup": "",
         "orientation": "v",
         "showlegend": false,
         "textposition": "auto",
         "type": "bar",
         "x": [
          "Caída de pasajero",
          "Colisión con animal",
          "Colisión con ciclista",
          "Colisión con ferrocarril",
          "Colisión con motocicleta",
          "Colisión con objeto fijo",
          "Colisión con peatón (atropellamiento)",
          "Colisión con vehículo automotor",
          "Incendio",
          "Otro",
          "Salida del camino",
          "Volcadura"
         ],
         "xaxis": "x",
         "y": [
          2782,
          2453,
          7280,
          238,
          23219,
          55321,
          20953,
          338481,
          199,
          6041,
          9720,
          9592
         ],
         "yaxis": "y"
        }
       ],
       "layout": {
        "barmode": "relative",
        "legend": {
         "tracegroupgap": 0
        },
        "margin": {
         "t": 60
        },
        "template": {
         "data": {
          "bar": [
           {
            "error_x": {
             "color": "#2a3f5f"
            },
            "error_y": {
             "color": "#2a3f5f"
            },
            "marker": {
             "line": {
              "color": "#E5ECF6",
              "width": 0.5
             },
             "pattern": {
              "fillmode": "overlay",
              "size": 10,
              "solidity": 0.2
             }
            },
            "type": "bar"
           }
          ],
          "barpolar": [
           {
            "marker": {
             "line": {
              "color": "#E5ECF6",
              "width": 0.5
             },
             "pattern": {
              "fillmode": "overlay",
              "size": 10,
              "solidity": 0.2
             }
            },
            "type": "barpolar"
           }
          ],
          "carpet": [
           {
            "aaxis": {
             "endlinecolor": "#2a3f5f",
             "gridcolor": "white",
             "linecolor": "white",
             "minorgridcolor": "white",
             "startlinecolor": "#2a3f5f"
            },
            "baxis": {
             "endlinecolor": "#2a3f5f",
             "gridcolor": "white",
             "linecolor": "white",
             "minorgridcolor": "white",
             "startlinecolor": "#2a3f5f"
            },
            "type": "carpet"
           }
          ],
          "choropleth": [
           {
            "colorbar": {
             "outlinewidth": 0,
             "ticks": ""
            },
            "type": "choropleth"
           }
          ],
          "contour": [
           {
            "colorbar": {
             "outlinewidth": 0,
             "ticks": ""
            },
            "colorscale": [
             [
              0,
              "#0d0887"
             ],
             [
              0.1111111111111111,
              "#46039f"
             ],
             [
              0.2222222222222222,
              "#7201a8"
             ],
             [
              0.3333333333333333,
              "#9c179e"
             ],
             [
              0.4444444444444444,
              "#bd3786"
             ],
             [
              0.5555555555555556,
              "#d8576b"
             ],
             [
              0.6666666666666666,
              "#ed7953"
             ],
             [
              0.7777777777777778,
              "#fb9f3a"
             ],
             [
              0.8888888888888888,
              "#fdca26"
             ],
             [
              1,
              "#f0f921"
             ]
            ],
            "type": "contour"
           }
          ],
          "contourcarpet": [
           {
            "colorbar": {
             "outlinewidth": 0,
             "ticks": ""
            },
            "type": "contourcarpet"
           }
          ],
          "heatmap": [
           {
            "colorbar": {
             "outlinewidth": 0,
             "ticks": ""
            },
            "colorscale": [
             [
              0,
              "#0d0887"
             ],
             [
              0.1111111111111111,
              "#46039f"
             ],
             [
              0.2222222222222222,
              "#7201a8"
             ],
             [
              0.3333333333333333,
              "#9c179e"
             ],
             [
              0.4444444444444444,
              "#bd3786"
             ],
             [
              0.5555555555555556,
              "#d8576b"
             ],
             [
              0.6666666666666666,
              "#ed7953"
             ],
             [
              0.7777777777777778,
              "#fb9f3a"
             ],
             [
              0.8888888888888888,
              "#fdca26"
             ],
             [
              1,
              "#f0f921"
             ]
            ],
            "type": "heatmap"
           }
          ],
          "heatmapgl": [
           {
            "colorbar": {
             "outlinewidth": 0,
             "ticks": ""
            },
            "colorscale": [
             [
              0,
              "#0d0887"
             ],
             [
              0.1111111111111111,
              "#46039f"
             ],
             [
              0.2222222222222222,
              "#7201a8"
             ],
             [
              0.3333333333333333,
              "#9c179e"
             ],
             [
              0.4444444444444444,
              "#bd3786"
             ],
             [
              0.5555555555555556,
              "#d8576b"
             ],
             [
              0.6666666666666666,
              "#ed7953"
             ],
             [
              0.7777777777777778,
              "#fb9f3a"
             ],
             [
              0.8888888888888888,
              "#fdca26"
             ],
             [
              1,
              "#f0f921"
             ]
            ],
            "type": "heatmapgl"
           }
          ],
          "histogram": [
           {
            "marker": {
             "pattern": {
              "fillmode": "overlay",
              "size": 10,
              "solidity": 0.2
             }
            },
            "type": "histogram"
           }
          ],
          "histogram2d": [
           {
            "colorbar": {
             "outlinewidth": 0,
             "ticks": ""
            },
            "colorscale": [
             [
              0,
              "#0d0887"
             ],
             [
              0.1111111111111111,
              "#46039f"
             ],
             [
              0.2222222222222222,
              "#7201a8"
             ],
             [
              0.3333333333333333,
              "#9c179e"
             ],
             [
              0.4444444444444444,
              "#bd3786"
             ],
             [
              0.5555555555555556,
              "#d8576b"
             ],
             [
              0.6666666666666666,
              "#ed7953"
             ],
             [
              0.7777777777777778,
              "#fb9f3a"
             ],
             [
              0.8888888888888888,
              "#fdca26"
             ],
             [
              1,
              "#f0f921"
             ]
            ],
            "type": "histogram2d"
           }
          ],
          "histogram2dcontour": [
           {
            "colorbar": {
             "outlinewidth": 0,
             "ticks": ""
            },
            "colorscale": [
             [
              0,
              "#0d0887"
             ],
             [
              0.1111111111111111,
              "#46039f"
             ],
             [
              0.2222222222222222,
              "#7201a8"
             ],
             [
              0.3333333333333333,
              "#9c179e"
             ],
             [
              0.4444444444444444,
              "#bd3786"
             ],
             [
              0.5555555555555556,
              "#d8576b"
             ],
             [
              0.6666666666666666,
              "#ed7953"
             ],
             [
              0.7777777777777778,
              "#fb9f3a"
             ],
             [
              0.8888888888888888,
              "#fdca26"
             ],
             [
              1,
              "#f0f921"
             ]
            ],
            "type": "histogram2dcontour"
           }
          ],
          "mesh3d": [
           {
            "colorbar": {
             "outlinewidth": 0,
             "ticks": ""
            },
            "type": "mesh3d"
           }
          ],
          "parcoords": [
           {
            "line": {
             "colorbar": {
              "outlinewidth": 0,
              "ticks": ""
             }
            },
            "type": "parcoords"
           }
          ],
          "pie": [
           {
            "automargin": true,
            "type": "pie"
           }
          ],
          "scatter": [
           {
            "marker": {
             "colorbar": {
              "outlinewidth": 0,
              "ticks": ""
             }
            },
            "type": "scatter"
           }
          ],
          "scatter3d": [
           {
            "line": {
             "colorbar": {
              "outlinewidth": 0,
              "ticks": ""
             }
            },
            "marker": {
             "colorbar": {
              "outlinewidth": 0,
              "ticks": ""
             }
            },
            "type": "scatter3d"
           }
          ],
          "scattercarpet": [
           {
            "marker": {
             "colorbar": {
              "outlinewidth": 0,
              "ticks": ""
             }
            },
            "type": "scattercarpet"
           }
          ],
          "scattergeo": [
           {
            "marker": {
             "colorbar": {
              "outlinewidth": 0,
              "ticks": ""
             }
            },
            "type": "scattergeo"
           }
          ],
          "scattergl": [
           {
            "marker": {
             "colorbar": {
              "outlinewidth": 0,
              "ticks": ""
             }
            },
            "type": "scattergl"
           }
          ],
          "scattermapbox": [
           {
            "marker": {
             "colorbar": {
              "outlinewidth": 0,
              "ticks": ""
             }
            },
            "type": "scattermapbox"
           }
          ],
          "scatterpolar": [
           {
            "marker": {
             "colorbar": {
              "outlinewidth": 0,
              "ticks": ""
             }
            },
            "type": "scatterpolar"
           }
          ],
          "scatterpolargl": [
           {
            "marker": {
             "colorbar": {
              "outlinewidth": 0,
              "ticks": ""
             }
            },
            "type": "scatterpolargl"
           }
          ],
          "scatterternary": [
           {
            "marker": {
             "colorbar": {
              "outlinewidth": 0,
              "ticks": ""
             }
            },
            "type": "scatterternary"
           }
          ],
          "surface": [
           {
            "colorbar": {
             "outlinewidth": 0,
             "ticks": ""
            },
            "colorscale": [
             [
              0,
              "#0d0887"
             ],
             [
              0.1111111111111111,
              "#46039f"
             ],
             [
              0.2222222222222222,
              "#7201a8"
             ],
             [
              0.3333333333333333,
              "#9c179e"
             ],
             [
              0.4444444444444444,
              "#bd3786"
             ],
             [
              0.5555555555555556,
              "#d8576b"
             ],
             [
              0.6666666666666666,
              "#ed7953"
             ],
             [
              0.7777777777777778,
              "#fb9f3a"
             ],
             [
              0.8888888888888888,
              "#fdca26"
             ],
             [
              1,
              "#f0f921"
             ]
            ],
            "type": "surface"
           }
          ],
          "table": [
           {
            "cells": {
             "fill": {
              "color": "#EBF0F8"
             },
             "line": {
              "color": "white"
             }
            },
            "header": {
             "fill": {
              "color": "#C8D4E3"
             },
             "line": {
              "color": "white"
             }
            },
            "type": "table"
           }
          ]
         },
         "layout": {
          "annotationdefaults": {
           "arrowcolor": "#2a3f5f",
           "arrowhead": 0,
           "arrowwidth": 1
          },
          "autotypenumbers": "strict",
          "coloraxis": {
           "colorbar": {
            "outlinewidth": 0,
            "ticks": ""
           }
          },
          "colorscale": {
           "diverging": [
            [
             0,
             "#8e0152"
            ],
            [
             0.1,
             "#c51b7d"
            ],
            [
             0.2,
             "#de77ae"
            ],
            [
             0.3,
             "#f1b6da"
            ],
            [
             0.4,
             "#fde0ef"
            ],
            [
             0.5,
             "#f7f7f7"
            ],
            [
             0.6,
             "#e6f5d0"
            ],
            [
             0.7,
             "#b8e186"
            ],
            [
             0.8,
             "#7fbc41"
            ],
            [
             0.9,
             "#4d9221"
            ],
            [
             1,
             "#276419"
            ]
           ],
           "sequential": [
            [
             0,
             "#0d0887"
            ],
            [
             0.1111111111111111,
             "#46039f"
            ],
            [
             0.2222222222222222,
             "#7201a8"
            ],
            [
             0.3333333333333333,
             "#9c179e"
            ],
            [
             0.4444444444444444,
             "#bd3786"
            ],
            [
             0.5555555555555556,
             "#d8576b"
            ],
            [
             0.6666666666666666,
             "#ed7953"
            ],
            [
             0.7777777777777778,
             "#fb9f3a"
            ],
            [
             0.8888888888888888,
             "#fdca26"
            ],
            [
             1,
             "#f0f921"
            ]
           ],
           "sequentialminus": [
            [
             0,
             "#0d0887"
            ],
            [
             0.1111111111111111,
             "#46039f"
            ],
            [
             0.2222222222222222,
             "#7201a8"
            ],
            [
             0.3333333333333333,
             "#9c179e"
            ],
            [
             0.4444444444444444,
             "#bd3786"
            ],
            [
             0.5555555555555556,
             "#d8576b"
            ],
            [
             0.6666666666666666,
             "#ed7953"
            ],
            [
             0.7777777777777778,
             "#fb9f3a"
            ],
            [
             0.8888888888888888,
             "#fdca26"
            ],
            [
             1,
             "#f0f921"
            ]
           ]
          },
          "colorway": [
           "#636efa",
           "#EF553B",
           "#00cc96",
           "#ab63fa",
           "#FFA15A",
           "#19d3f3",
           "#FF6692",
           "#B6E880",
           "#FF97FF",
           "#FECB52"
          ],
          "font": {
           "color": "#2a3f5f"
          },
          "geo": {
           "bgcolor": "white",
           "lakecolor": "white",
           "landcolor": "#E5ECF6",
           "showlakes": true,
           "showland": true,
           "subunitcolor": "white"
          },
          "hoverlabel": {
           "align": "left"
          },
          "hovermode": "closest",
          "mapbox": {
           "style": "light"
          },
          "paper_bgcolor": "white",
          "plot_bgcolor": "#E5ECF6",
          "polar": {
           "angularaxis": {
            "gridcolor": "white",
            "linecolor": "white",
            "ticks": ""
           },
           "bgcolor": "#E5ECF6",
           "radialaxis": {
            "gridcolor": "white",
            "linecolor": "white",
            "ticks": ""
           }
          },
          "scene": {
           "xaxis": {
            "backgroundcolor": "#E5ECF6",
            "gridcolor": "white",
            "gridwidth": 2,
            "linecolor": "white",
            "showbackground": true,
            "ticks": "",
            "zerolinecolor": "white"
           },
           "yaxis": {
            "backgroundcolor": "#E5ECF6",
            "gridcolor": "white",
            "gridwidth": 2,
            "linecolor": "white",
            "showbackground": true,
            "ticks": "",
            "zerolinecolor": "white"
           },
           "zaxis": {
            "backgroundcolor": "#E5ECF6",
            "gridcolor": "white",
            "gridwidth": 2,
            "linecolor": "white",
            "showbackground": true,
            "ticks": "",
            "zerolinecolor": "white"
           }
          },
          "shapedefaults": {
           "line": {
            "color": "#2a3f5f"
           }
          },
          "ternary": {
           "aaxis": {
            "gridcolor": "white",
            "linecolor": "white",
            "ticks": ""
           },
           "baxis": {
            "gridcolor": "white",
            "linecolor": "white",
            "ticks": ""
           },
           "bgcolor": "#E5ECF6",
           "caxis": {
            "gridcolor": "white",
            "linecolor": "white",
            "ticks": ""
           }
          },
          "title": {
           "x": 0.05
          },
          "xaxis": {
           "automargin": true,
           "gridcolor": "white",
           "linecolor": "white",
           "ticks": "",
           "title": {
            "standoff": 15
           },
           "zerolinecolor": "white",
           "zerolinewidth": 2
          },
          "yaxis": {
           "automargin": true,
           "gridcolor": "white",
           "linecolor": "white",
           "ticks": "",
           "title": {
            "standoff": 15
           },
           "zerolinecolor": "white",
           "zerolinewidth": 2
          }
         }
        },
        "xaxis": {
         "anchor": "y",
         "domain": [
          0,
          1
         ],
         "title": {
          "text": "TIPACCID"
         }
        },
        "yaxis": {
         "anchor": "x",
         "domain": [
          0,
          1
         ],
         "title": {
          "text": "Counts"
         }
        }
       }
      }
     },
     "metadata": {},
     "output_type": "display_data"
    }
   ],
   "source": [
    "pd.DataFrame({\"TIPACCID\": items, \"Counts\": counts}).plot.bar(x = \"TIPACCID\", y = \"Counts\")"
   ]
  },
  {
   "cell_type": "code",
   "execution_count": 70,
   "metadata": {},
   "outputs": [
    {
     "data": {
      "text/html": [
       "<div>\n",
       "<style scoped>\n",
       "    .dataframe tbody tr th:only-of-type {\n",
       "        vertical-align: middle;\n",
       "    }\n",
       "\n",
       "    .dataframe tbody tr th {\n",
       "        vertical-align: top;\n",
       "    }\n",
       "\n",
       "    .dataframe thead th {\n",
       "        text-align: right;\n",
       "    }\n",
       "</style>\n",
       "<table border=\"1\" class=\"dataframe\">\n",
       "  <thead>\n",
       "    <tr style=\"text-align: right;\">\n",
       "      <th></th>\n",
       "      <th>COBERTURA</th>\n",
       "      <th>ID_ENTIDAD</th>\n",
       "      <th>ID_MUNICIPIO</th>\n",
       "      <th>ANIO</th>\n",
       "      <th>MES</th>\n",
       "      <th>ID_HORA</th>\n",
       "      <th>ID_MINUTO</th>\n",
       "      <th>ID_DIA</th>\n",
       "      <th>DIASEMANA</th>\n",
       "      <th>URBANA</th>\n",
       "      <th>SUBURBANA</th>\n",
       "      <th>TIPACCID</th>\n",
       "      <th>AUTOMOVIL</th>\n",
       "      <th>CAMPASAJ</th>\n",
       "      <th>MICROBUS</th>\n",
       "      <th>PASCAMION</th>\n",
       "      <th>OMNIBUS</th>\n",
       "      <th>TRANVIA</th>\n",
       "      <th>CAMIONETA</th>\n",
       "      <th>CAMION</th>\n",
       "      <th>TRACTOR</th>\n",
       "      <th>FERROCARRI</th>\n",
       "      <th>MOTOCICLET</th>\n",
       "      <th>BICICLETA</th>\n",
       "      <th>OTROVEHIC</th>\n",
       "      <th>CAUSAACCI</th>\n",
       "      <th>CAPAROD</th>\n",
       "      <th>SEXO</th>\n",
       "      <th>ALIENTO</th>\n",
       "      <th>CINTURON</th>\n",
       "      <th>ID_EDAD</th>\n",
       "      <th>CONDMUERTO</th>\n",
       "      <th>CONDHERIDO</th>\n",
       "      <th>PASAMUERTO</th>\n",
       "      <th>PASAHERIDO</th>\n",
       "      <th>PEATMUERTO</th>\n",
       "      <th>PEATHERIDO</th>\n",
       "      <th>CICLMUERTO</th>\n",
       "      <th>CICLHERIDO</th>\n",
       "      <th>OTROMUERTO</th>\n",
       "      <th>OTROHERIDO</th>\n",
       "      <th>NEMUERTO</th>\n",
       "      <th>NEHERIDO</th>\n",
       "      <th>CLASACC</th>\n",
       "      <th>ESTATUS</th>\n",
       "    </tr>\n",
       "  </thead>\n",
       "  <tbody>\n",
       "    <tr>\n",
       "      <th>0</th>\n",
       "      <td>Municipal</td>\n",
       "      <td>1</td>\n",
       "      <td>1</td>\n",
       "      <td>2007</td>\n",
       "      <td>1</td>\n",
       "      <td>0</td>\n",
       "      <td>0</td>\n",
       "      <td>1</td>\n",
       "      <td>lunes</td>\n",
       "      <td>Accidente en intersección</td>\n",
       "      <td>Sin accidente en esta zona</td>\n",
       "      <td>Colisión con objeto fijo</td>\n",
       "      <td>1</td>\n",
       "      <td>0</td>\n",
       "      <td>0</td>\n",
       "      <td>0</td>\n",
       "      <td>0</td>\n",
       "      <td>0</td>\n",
       "      <td>0</td>\n",
       "      <td>0</td>\n",
       "      <td>0</td>\n",
       "      <td>0</td>\n",
       "      <td>0</td>\n",
       "      <td>0</td>\n",
       "      <td>0</td>\n",
       "      <td>Otra</td>\n",
       "      <td>Pavimentada</td>\n",
       "      <td>Hombre</td>\n",
       "      <td>No</td>\n",
       "      <td>Se ignora</td>\n",
       "      <td>25</td>\n",
       "      <td>0</td>\n",
       "      <td>0</td>\n",
       "      <td>0</td>\n",
       "      <td>0</td>\n",
       "      <td>0</td>\n",
       "      <td>0</td>\n",
       "      <td>0</td>\n",
       "      <td>0</td>\n",
       "      <td>0</td>\n",
       "      <td>0</td>\n",
       "      <td>0</td>\n",
       "      <td>0</td>\n",
       "      <td>Sólo daños</td>\n",
       "      <td>Cifras Revisadas</td>\n",
       "    </tr>\n",
       "    <tr>\n",
       "      <th>1</th>\n",
       "      <td>Municipal</td>\n",
       "      <td>1</td>\n",
       "      <td>1</td>\n",
       "      <td>2007</td>\n",
       "      <td>1</td>\n",
       "      <td>2</td>\n",
       "      <td>2</td>\n",
       "      <td>1</td>\n",
       "      <td>lunes</td>\n",
       "      <td>Accidente en intersección</td>\n",
       "      <td>Sin accidente en esta zona</td>\n",
       "      <td>Colisión con vehículo automotor</td>\n",
       "      <td>2</td>\n",
       "      <td>0</td>\n",
       "      <td>0</td>\n",
       "      <td>0</td>\n",
       "      <td>0</td>\n",
       "      <td>0</td>\n",
       "      <td>0</td>\n",
       "      <td>0</td>\n",
       "      <td>0</td>\n",
       "      <td>0</td>\n",
       "      <td>0</td>\n",
       "      <td>0</td>\n",
       "      <td>0</td>\n",
       "      <td>Otra</td>\n",
       "      <td>Pavimentada</td>\n",
       "      <td>Hombre</td>\n",
       "      <td>No</td>\n",
       "      <td>Se ignora</td>\n",
       "      <td>29</td>\n",
       "      <td>0</td>\n",
       "      <td>0</td>\n",
       "      <td>0</td>\n",
       "      <td>1</td>\n",
       "      <td>0</td>\n",
       "      <td>0</td>\n",
       "      <td>0</td>\n",
       "      <td>0</td>\n",
       "      <td>0</td>\n",
       "      <td>0</td>\n",
       "      <td>0</td>\n",
       "      <td>0</td>\n",
       "      <td>No fatal</td>\n",
       "      <td>Cifras Revisadas</td>\n",
       "    </tr>\n",
       "    <tr>\n",
       "      <th>2</th>\n",
       "      <td>Municipal</td>\n",
       "      <td>1</td>\n",
       "      <td>1</td>\n",
       "      <td>2007</td>\n",
       "      <td>1</td>\n",
       "      <td>4</td>\n",
       "      <td>55</td>\n",
       "      <td>1</td>\n",
       "      <td>lunes</td>\n",
       "      <td>Accidente en no intersección</td>\n",
       "      <td>Sin accidente en esta zona</td>\n",
       "      <td>Colisión con motocicleta</td>\n",
       "      <td>1</td>\n",
       "      <td>0</td>\n",
       "      <td>0</td>\n",
       "      <td>0</td>\n",
       "      <td>0</td>\n",
       "      <td>0</td>\n",
       "      <td>0</td>\n",
       "      <td>0</td>\n",
       "      <td>0</td>\n",
       "      <td>0</td>\n",
       "      <td>1</td>\n",
       "      <td>0</td>\n",
       "      <td>0</td>\n",
       "      <td>Otra</td>\n",
       "      <td>Pavimentada</td>\n",
       "      <td>Hombre</td>\n",
       "      <td>No</td>\n",
       "      <td>Se ignora</td>\n",
       "      <td>36</td>\n",
       "      <td>0</td>\n",
       "      <td>2</td>\n",
       "      <td>0</td>\n",
       "      <td>0</td>\n",
       "      <td>0</td>\n",
       "      <td>0</td>\n",
       "      <td>0</td>\n",
       "      <td>0</td>\n",
       "      <td>0</td>\n",
       "      <td>0</td>\n",
       "      <td>0</td>\n",
       "      <td>0</td>\n",
       "      <td>No fatal</td>\n",
       "      <td>Cifras Revisadas</td>\n",
       "    </tr>\n",
       "    <tr>\n",
       "      <th>3</th>\n",
       "      <td>Municipal</td>\n",
       "      <td>1</td>\n",
       "      <td>1</td>\n",
       "      <td>2007</td>\n",
       "      <td>1</td>\n",
       "      <td>5</td>\n",
       "      <td>0</td>\n",
       "      <td>1</td>\n",
       "      <td>lunes</td>\n",
       "      <td>Accidente en no intersección</td>\n",
       "      <td>Sin accidente en esta zona</td>\n",
       "      <td>Colisión con vehículo automotor</td>\n",
       "      <td>1</td>\n",
       "      <td>0</td>\n",
       "      <td>0</td>\n",
       "      <td>0</td>\n",
       "      <td>0</td>\n",
       "      <td>0</td>\n",
       "      <td>1</td>\n",
       "      <td>0</td>\n",
       "      <td>0</td>\n",
       "      <td>0</td>\n",
       "      <td>0</td>\n",
       "      <td>0</td>\n",
       "      <td>0</td>\n",
       "      <td>Otra</td>\n",
       "      <td>Pavimentada</td>\n",
       "      <td>Hombre</td>\n",
       "      <td>No</td>\n",
       "      <td>Se ignora</td>\n",
       "      <td>22</td>\n",
       "      <td>0</td>\n",
       "      <td>0</td>\n",
       "      <td>0</td>\n",
       "      <td>0</td>\n",
       "      <td>0</td>\n",
       "      <td>0</td>\n",
       "      <td>0</td>\n",
       "      <td>0</td>\n",
       "      <td>0</td>\n",
       "      <td>0</td>\n",
       "      <td>0</td>\n",
       "      <td>0</td>\n",
       "      <td>Sólo daños</td>\n",
       "      <td>Cifras Revisadas</td>\n",
       "    </tr>\n",
       "    <tr>\n",
       "      <th>4</th>\n",
       "      <td>Municipal</td>\n",
       "      <td>1</td>\n",
       "      <td>1</td>\n",
       "      <td>2007</td>\n",
       "      <td>1</td>\n",
       "      <td>5</td>\n",
       "      <td>30</td>\n",
       "      <td>1</td>\n",
       "      <td>lunes</td>\n",
       "      <td>Accidente en no intersección</td>\n",
       "      <td>Sin accidente en esta zona</td>\n",
       "      <td>Colisión con objeto fijo</td>\n",
       "      <td>1</td>\n",
       "      <td>0</td>\n",
       "      <td>0</td>\n",
       "      <td>0</td>\n",
       "      <td>0</td>\n",
       "      <td>0</td>\n",
       "      <td>0</td>\n",
       "      <td>0</td>\n",
       "      <td>0</td>\n",
       "      <td>0</td>\n",
       "      <td>0</td>\n",
       "      <td>0</td>\n",
       "      <td>0</td>\n",
       "      <td>Falla del vehículo</td>\n",
       "      <td>Pavimentada</td>\n",
       "      <td>Hombre</td>\n",
       "      <td>No</td>\n",
       "      <td>Se ignora</td>\n",
       "      <td>18</td>\n",
       "      <td>0</td>\n",
       "      <td>0</td>\n",
       "      <td>0</td>\n",
       "      <td>0</td>\n",
       "      <td>0</td>\n",
       "      <td>0</td>\n",
       "      <td>0</td>\n",
       "      <td>0</td>\n",
       "      <td>0</td>\n",
       "      <td>0</td>\n",
       "      <td>0</td>\n",
       "      <td>0</td>\n",
       "      <td>Sólo daños</td>\n",
       "      <td>Cifras Revisadas</td>\n",
       "    </tr>\n",
       "    <tr>\n",
       "      <th>...</th>\n",
       "      <td>...</td>\n",
       "      <td>...</td>\n",
       "      <td>...</td>\n",
       "      <td>...</td>\n",
       "      <td>...</td>\n",
       "      <td>...</td>\n",
       "      <td>...</td>\n",
       "      <td>...</td>\n",
       "      <td>...</td>\n",
       "      <td>...</td>\n",
       "      <td>...</td>\n",
       "      <td>...</td>\n",
       "      <td>...</td>\n",
       "      <td>...</td>\n",
       "      <td>...</td>\n",
       "      <td>...</td>\n",
       "      <td>...</td>\n",
       "      <td>...</td>\n",
       "      <td>...</td>\n",
       "      <td>...</td>\n",
       "      <td>...</td>\n",
       "      <td>...</td>\n",
       "      <td>...</td>\n",
       "      <td>...</td>\n",
       "      <td>...</td>\n",
       "      <td>...</td>\n",
       "      <td>...</td>\n",
       "      <td>...</td>\n",
       "      <td>...</td>\n",
       "      <td>...</td>\n",
       "      <td>...</td>\n",
       "      <td>...</td>\n",
       "      <td>...</td>\n",
       "      <td>...</td>\n",
       "      <td>...</td>\n",
       "      <td>...</td>\n",
       "      <td>...</td>\n",
       "      <td>...</td>\n",
       "      <td>...</td>\n",
       "      <td>...</td>\n",
       "      <td>...</td>\n",
       "      <td>...</td>\n",
       "      <td>...</td>\n",
       "      <td>...</td>\n",
       "      <td>...</td>\n",
       "    </tr>\n",
       "    <tr>\n",
       "      <th>476274</th>\n",
       "      <td>Municipal</td>\n",
       "      <td>32</td>\n",
       "      <td>56</td>\n",
       "      <td>2007</td>\n",
       "      <td>12</td>\n",
       "      <td>11</td>\n",
       "      <td>0</td>\n",
       "      <td>19</td>\n",
       "      <td>Miercoles</td>\n",
       "      <td>Accidente en intersección</td>\n",
       "      <td>Sin accidente en esta zona</td>\n",
       "      <td>Colisión con peatón (atropellamiento)</td>\n",
       "      <td>1</td>\n",
       "      <td>0</td>\n",
       "      <td>0</td>\n",
       "      <td>0</td>\n",
       "      <td>0</td>\n",
       "      <td>0</td>\n",
       "      <td>0</td>\n",
       "      <td>0</td>\n",
       "      <td>0</td>\n",
       "      <td>0</td>\n",
       "      <td>0</td>\n",
       "      <td>0</td>\n",
       "      <td>0</td>\n",
       "      <td>Conductor</td>\n",
       "      <td>Pavimentada</td>\n",
       "      <td>Hombre</td>\n",
       "      <td>No</td>\n",
       "      <td>No</td>\n",
       "      <td>42</td>\n",
       "      <td>0</td>\n",
       "      <td>0</td>\n",
       "      <td>0</td>\n",
       "      <td>0</td>\n",
       "      <td>0</td>\n",
       "      <td>1</td>\n",
       "      <td>0</td>\n",
       "      <td>0</td>\n",
       "      <td>0</td>\n",
       "      <td>0</td>\n",
       "      <td>0</td>\n",
       "      <td>0</td>\n",
       "      <td>No fatal</td>\n",
       "      <td>Cifras Revisadas</td>\n",
       "    </tr>\n",
       "    <tr>\n",
       "      <th>476275</th>\n",
       "      <td>Municipal</td>\n",
       "      <td>32</td>\n",
       "      <td>56</td>\n",
       "      <td>2007</td>\n",
       "      <td>12</td>\n",
       "      <td>12</td>\n",
       "      <td>30</td>\n",
       "      <td>20</td>\n",
       "      <td>Jueves</td>\n",
       "      <td>Accidente en intersección</td>\n",
       "      <td>Sin accidente en esta zona</td>\n",
       "      <td>Colisión con vehículo automotor</td>\n",
       "      <td>1</td>\n",
       "      <td>0</td>\n",
       "      <td>0</td>\n",
       "      <td>0</td>\n",
       "      <td>0</td>\n",
       "      <td>0</td>\n",
       "      <td>1</td>\n",
       "      <td>0</td>\n",
       "      <td>0</td>\n",
       "      <td>0</td>\n",
       "      <td>0</td>\n",
       "      <td>0</td>\n",
       "      <td>0</td>\n",
       "      <td>Conductor</td>\n",
       "      <td>Pavimentada</td>\n",
       "      <td>Hombre</td>\n",
       "      <td>No</td>\n",
       "      <td>No</td>\n",
       "      <td>54</td>\n",
       "      <td>0</td>\n",
       "      <td>0</td>\n",
       "      <td>0</td>\n",
       "      <td>0</td>\n",
       "      <td>0</td>\n",
       "      <td>0</td>\n",
       "      <td>0</td>\n",
       "      <td>0</td>\n",
       "      <td>0</td>\n",
       "      <td>0</td>\n",
       "      <td>0</td>\n",
       "      <td>0</td>\n",
       "      <td>Sólo daños</td>\n",
       "      <td>Cifras Revisadas</td>\n",
       "    </tr>\n",
       "    <tr>\n",
       "      <th>476276</th>\n",
       "      <td>Municipal</td>\n",
       "      <td>32</td>\n",
       "      <td>56</td>\n",
       "      <td>2007</td>\n",
       "      <td>12</td>\n",
       "      <td>13</td>\n",
       "      <td>0</td>\n",
       "      <td>20</td>\n",
       "      <td>Jueves</td>\n",
       "      <td>Accidente en intersección</td>\n",
       "      <td>Sin accidente en esta zona</td>\n",
       "      <td>Colisión con vehículo automotor</td>\n",
       "      <td>1</td>\n",
       "      <td>0</td>\n",
       "      <td>0</td>\n",
       "      <td>0</td>\n",
       "      <td>0</td>\n",
       "      <td>0</td>\n",
       "      <td>1</td>\n",
       "      <td>0</td>\n",
       "      <td>0</td>\n",
       "      <td>0</td>\n",
       "      <td>0</td>\n",
       "      <td>0</td>\n",
       "      <td>0</td>\n",
       "      <td>Conductor</td>\n",
       "      <td>Pavimentada</td>\n",
       "      <td>Hombre</td>\n",
       "      <td>No</td>\n",
       "      <td>No</td>\n",
       "      <td>17</td>\n",
       "      <td>0</td>\n",
       "      <td>1</td>\n",
       "      <td>0</td>\n",
       "      <td>1</td>\n",
       "      <td>0</td>\n",
       "      <td>0</td>\n",
       "      <td>0</td>\n",
       "      <td>0</td>\n",
       "      <td>0</td>\n",
       "      <td>0</td>\n",
       "      <td>0</td>\n",
       "      <td>0</td>\n",
       "      <td>No fatal</td>\n",
       "      <td>Cifras Revisadas</td>\n",
       "    </tr>\n",
       "    <tr>\n",
       "      <th>476277</th>\n",
       "      <td>Municipal</td>\n",
       "      <td>32</td>\n",
       "      <td>56</td>\n",
       "      <td>2007</td>\n",
       "      <td>12</td>\n",
       "      <td>8</td>\n",
       "      <td>30</td>\n",
       "      <td>21</td>\n",
       "      <td>Viernes</td>\n",
       "      <td>Accidente en intersección</td>\n",
       "      <td>Sin accidente en esta zona</td>\n",
       "      <td>Colisión con objeto fijo</td>\n",
       "      <td>0</td>\n",
       "      <td>0</td>\n",
       "      <td>0</td>\n",
       "      <td>0</td>\n",
       "      <td>0</td>\n",
       "      <td>0</td>\n",
       "      <td>1</td>\n",
       "      <td>0</td>\n",
       "      <td>0</td>\n",
       "      <td>0</td>\n",
       "      <td>0</td>\n",
       "      <td>0</td>\n",
       "      <td>0</td>\n",
       "      <td>Conductor</td>\n",
       "      <td>Pavimentada</td>\n",
       "      <td>Mujer</td>\n",
       "      <td>No</td>\n",
       "      <td>No</td>\n",
       "      <td>25</td>\n",
       "      <td>0</td>\n",
       "      <td>0</td>\n",
       "      <td>0</td>\n",
       "      <td>0</td>\n",
       "      <td>0</td>\n",
       "      <td>0</td>\n",
       "      <td>0</td>\n",
       "      <td>0</td>\n",
       "      <td>0</td>\n",
       "      <td>0</td>\n",
       "      <td>0</td>\n",
       "      <td>0</td>\n",
       "      <td>Sólo daños</td>\n",
       "      <td>Cifras Revisadas</td>\n",
       "    </tr>\n",
       "    <tr>\n",
       "      <th>476278</th>\n",
       "      <td>Municipal</td>\n",
       "      <td>32</td>\n",
       "      <td>56</td>\n",
       "      <td>2007</td>\n",
       "      <td>12</td>\n",
       "      <td>11</td>\n",
       "      <td>0</td>\n",
       "      <td>21</td>\n",
       "      <td>Viernes</td>\n",
       "      <td>Accidente en intersección</td>\n",
       "      <td>Sin accidente en esta zona</td>\n",
       "      <td>Colisión con vehículo automotor</td>\n",
       "      <td>2</td>\n",
       "      <td>0</td>\n",
       "      <td>0</td>\n",
       "      <td>0</td>\n",
       "      <td>0</td>\n",
       "      <td>0</td>\n",
       "      <td>0</td>\n",
       "      <td>0</td>\n",
       "      <td>0</td>\n",
       "      <td>0</td>\n",
       "      <td>0</td>\n",
       "      <td>0</td>\n",
       "      <td>0</td>\n",
       "      <td>Conductor</td>\n",
       "      <td>Pavimentada</td>\n",
       "      <td>Hombre</td>\n",
       "      <td>No</td>\n",
       "      <td>No</td>\n",
       "      <td>32</td>\n",
       "      <td>0</td>\n",
       "      <td>0</td>\n",
       "      <td>0</td>\n",
       "      <td>0</td>\n",
       "      <td>0</td>\n",
       "      <td>0</td>\n",
       "      <td>0</td>\n",
       "      <td>0</td>\n",
       "      <td>0</td>\n",
       "      <td>0</td>\n",
       "      <td>0</td>\n",
       "      <td>0</td>\n",
       "      <td>Sólo daños</td>\n",
       "      <td>Cifras Revisadas</td>\n",
       "    </tr>\n",
       "  </tbody>\n",
       "</table>\n",
       "<p>476279 rows × 45 columns</p>\n",
       "</div>"
      ],
      "text/plain": [
       "        COBERTURA  ID_ENTIDAD  ID_MUNICIPIO  ANIO  MES  ID_HORA  ID_MINUTO  \\\n",
       "0       Municipal           1             1  2007    1        0          0   \n",
       "1       Municipal           1             1  2007    1        2          2   \n",
       "2       Municipal           1             1  2007    1        4         55   \n",
       "3       Municipal           1             1  2007    1        5          0   \n",
       "4       Municipal           1             1  2007    1        5         30   \n",
       "...           ...         ...           ...   ...  ...      ...        ...   \n",
       "476274  Municipal          32            56  2007   12       11          0   \n",
       "476275  Municipal          32            56  2007   12       12         30   \n",
       "476276  Municipal          32            56  2007   12       13          0   \n",
       "476277  Municipal          32            56  2007   12        8         30   \n",
       "476278  Municipal          32            56  2007   12       11          0   \n",
       "\n",
       "        ID_DIA  DIASEMANA                        URBANA  \\\n",
       "0            1      lunes     Accidente en intersección   \n",
       "1            1      lunes     Accidente en intersección   \n",
       "2            1      lunes  Accidente en no intersección   \n",
       "3            1      lunes  Accidente en no intersección   \n",
       "4            1      lunes  Accidente en no intersección   \n",
       "...        ...        ...                           ...   \n",
       "476274      19  Miercoles     Accidente en intersección   \n",
       "476275      20     Jueves     Accidente en intersección   \n",
       "476276      20     Jueves     Accidente en intersección   \n",
       "476277      21    Viernes     Accidente en intersección   \n",
       "476278      21    Viernes     Accidente en intersección   \n",
       "\n",
       "                         SUBURBANA                               TIPACCID  \\\n",
       "0       Sin accidente en esta zona               Colisión con objeto fijo   \n",
       "1       Sin accidente en esta zona        Colisión con vehículo automotor   \n",
       "2       Sin accidente en esta zona               Colisión con motocicleta   \n",
       "3       Sin accidente en esta zona        Colisión con vehículo automotor   \n",
       "4       Sin accidente en esta zona               Colisión con objeto fijo   \n",
       "...                            ...                                    ...   \n",
       "476274  Sin accidente en esta zona  Colisión con peatón (atropellamiento)   \n",
       "476275  Sin accidente en esta zona        Colisión con vehículo automotor   \n",
       "476276  Sin accidente en esta zona        Colisión con vehículo automotor   \n",
       "476277  Sin accidente en esta zona               Colisión con objeto fijo   \n",
       "476278  Sin accidente en esta zona        Colisión con vehículo automotor   \n",
       "\n",
       "        AUTOMOVIL  CAMPASAJ  MICROBUS  PASCAMION  OMNIBUS  TRANVIA  CAMIONETA  \\\n",
       "0               1         0         0          0        0        0          0   \n",
       "1               2         0         0          0        0        0          0   \n",
       "2               1         0         0          0        0        0          0   \n",
       "3               1         0         0          0        0        0          1   \n",
       "4               1         0         0          0        0        0          0   \n",
       "...           ...       ...       ...        ...      ...      ...        ...   \n",
       "476274          1         0         0          0        0        0          0   \n",
       "476275          1         0         0          0        0        0          1   \n",
       "476276          1         0         0          0        0        0          1   \n",
       "476277          0         0         0          0        0        0          1   \n",
       "476278          2         0         0          0        0        0          0   \n",
       "\n",
       "        CAMION  TRACTOR  FERROCARRI  MOTOCICLET  BICICLETA  OTROVEHIC  \\\n",
       "0            0        0           0           0          0          0   \n",
       "1            0        0           0           0          0          0   \n",
       "2            0        0           0           1          0          0   \n",
       "3            0        0           0           0          0          0   \n",
       "4            0        0           0           0          0          0   \n",
       "...        ...      ...         ...         ...        ...        ...   \n",
       "476274       0        0           0           0          0          0   \n",
       "476275       0        0           0           0          0          0   \n",
       "476276       0        0           0           0          0          0   \n",
       "476277       0        0           0           0          0          0   \n",
       "476278       0        0           0           0          0          0   \n",
       "\n",
       "                 CAUSAACCI      CAPAROD    SEXO ALIENTO   CINTURON  ID_EDAD  \\\n",
       "0                     Otra  Pavimentada  Hombre      No  Se ignora       25   \n",
       "1                     Otra  Pavimentada  Hombre      No  Se ignora       29   \n",
       "2                     Otra  Pavimentada  Hombre      No  Se ignora       36   \n",
       "3                     Otra  Pavimentada  Hombre      No  Se ignora       22   \n",
       "4       Falla del vehículo  Pavimentada  Hombre      No  Se ignora       18   \n",
       "...                    ...          ...     ...     ...        ...      ...   \n",
       "476274           Conductor  Pavimentada  Hombre      No         No       42   \n",
       "476275           Conductor  Pavimentada  Hombre      No         No       54   \n",
       "476276           Conductor  Pavimentada  Hombre      No         No       17   \n",
       "476277           Conductor  Pavimentada   Mujer      No         No       25   \n",
       "476278           Conductor  Pavimentada  Hombre      No         No       32   \n",
       "\n",
       "        CONDMUERTO  CONDHERIDO  PASAMUERTO  PASAHERIDO  PEATMUERTO  \\\n",
       "0                0           0           0           0           0   \n",
       "1                0           0           0           1           0   \n",
       "2                0           2           0           0           0   \n",
       "3                0           0           0           0           0   \n",
       "4                0           0           0           0           0   \n",
       "...            ...         ...         ...         ...         ...   \n",
       "476274           0           0           0           0           0   \n",
       "476275           0           0           0           0           0   \n",
       "476276           0           1           0           1           0   \n",
       "476277           0           0           0           0           0   \n",
       "476278           0           0           0           0           0   \n",
       "\n",
       "        PEATHERIDO  CICLMUERTO  CICLHERIDO  OTROMUERTO  OTROHERIDO  NEMUERTO  \\\n",
       "0                0           0           0           0           0         0   \n",
       "1                0           0           0           0           0         0   \n",
       "2                0           0           0           0           0         0   \n",
       "3                0           0           0           0           0         0   \n",
       "4                0           0           0           0           0         0   \n",
       "...            ...         ...         ...         ...         ...       ...   \n",
       "476274           1           0           0           0           0         0   \n",
       "476275           0           0           0           0           0         0   \n",
       "476276           0           0           0           0           0         0   \n",
       "476277           0           0           0           0           0         0   \n",
       "476278           0           0           0           0           0         0   \n",
       "\n",
       "        NEHERIDO     CLASACC           ESTATUS  \n",
       "0              0  Sólo daños  Cifras Revisadas  \n",
       "1              0    No fatal  Cifras Revisadas  \n",
       "2              0    No fatal  Cifras Revisadas  \n",
       "3              0  Sólo daños  Cifras Revisadas  \n",
       "4              0  Sólo daños  Cifras Revisadas  \n",
       "...          ...         ...               ...  \n",
       "476274         0    No fatal  Cifras Revisadas  \n",
       "476275         0  Sólo daños  Cifras Revisadas  \n",
       "476276         0    No fatal  Cifras Revisadas  \n",
       "476277         0  Sólo daños  Cifras Revisadas  \n",
       "476278         0  Sólo daños  Cifras Revisadas  \n",
       "\n",
       "[476279 rows x 45 columns]"
      ]
     },
     "execution_count": 70,
     "metadata": {},
     "output_type": "execute_result"
    }
   ],
   "source": [
    "atus"
   ]
  },
  {
   "cell_type": "code",
   "execution_count": null,
   "metadata": {},
   "outputs": [],
   "source": []
  },
  {
   "cell_type": "code",
   "execution_count": null,
   "metadata": {},
   "outputs": [],
   "source": []
  }
 ],
 "metadata": {
  "interpreter": {
   "hash": "75d36be367dcb6d44be0fcb187d0e00b2d2184ef570c19a3a84cacabc07ab80c"
  },
  "kernelspec": {
   "display_name": "Python 3.10.0 64-bit ('ds': venv)",
   "language": "python",
   "name": "python3"
  },
  "language_info": {
   "codemirror_mode": {
    "name": "ipython",
    "version": 3
   },
   "file_extension": ".py",
   "mimetype": "text/x-python",
   "name": "python",
   "nbconvert_exporter": "python",
   "pygments_lexer": "ipython3",
   "version": "3.10.0"
  },
  "orig_nbformat": 4
 },
 "nbformat": 4,
 "nbformat_minor": 2
}
